{
  "nbformat": 4,
  "nbformat_minor": 0,
  "metadata": {
    "colab": {
      "name": "housingpricespca.ipynb",
      "provenance": [],
      "authorship_tag": "ABX9TyN2QqqZUligcFsgaSkOWrTH",
      "include_colab_link": true
    },
    "kernelspec": {
      "name": "python3",
      "display_name": "Python 3"
    },
    "language_info": {
      "name": "python"
    }
  },
  "cells": [
    {
      "cell_type": "markdown",
      "metadata": {
        "id": "view-in-github",
        "colab_type": "text"
      },
      "source": [
        "<a href=\"https://colab.research.google.com/github/JoelWekesa/Data-Analysis/blob/main/housingpricespca.ipynb\" target=\"_parent\"><img src=\"https://colab.research.google.com/assets/colab-badge.svg\" alt=\"Open In Colab\"/></a>"
      ]
    },
    {
      "cell_type": "code",
      "metadata": {
        "id": "hQYy-p3bYn4i"
      },
      "source": [
        "import pandas as pd\n",
        "import numpy as np\n",
        "from sklearn.preprocessing import LabelEncoder, StandardScaler\n",
        "from sklearn.impute import SimpleImputer\n",
        "from sklearn.model_selection import train_test_split\n",
        "from sklearn.decomposition import PCA\n",
        "from sklearn.ensemble import RandomForestRegressor, GradientBoostingRegressor, StackingRegressor, BaggingRegressor, VotingRegressor\n",
        "from xgboost import XGBRegressor\n",
        "from sklearn.metrics import r2_score\n",
        "from google.colab import drive"
      ],
      "execution_count": 1,
      "outputs": []
    },
    {
      "cell_type": "code",
      "metadata": {
        "id": "L5LYOQH0cI0x"
      },
      "source": [
        "pd.set_option(\"display.max_rows\", 200)"
      ],
      "execution_count": 2,
      "outputs": []
    },
    {
      "cell_type": "code",
      "metadata": {
        "colab": {
          "base_uri": "https://localhost:8080/"
        },
        "id": "0u2h5b6rYz8t",
        "outputId": "9a317588-ea29-4d98-cf3d-1d048afac9ee"
      },
      "source": [
        "drive.mount(\"/content/datasets\")"
      ],
      "execution_count": 3,
      "outputs": [
        {
          "output_type": "stream",
          "name": "stdout",
          "text": [
            "Drive already mounted at /content/datasets; to attempt to forcibly remount, call drive.mount(\"/content/datasets\", force_remount=True).\n"
          ]
        }
      ]
    },
    {
      "cell_type": "code",
      "metadata": {
        "id": "AzXpUdlwY4Hx"
      },
      "source": [
        "path = \"/content/datasets/MyDrive/datasets/house-prices-advanced-regression-techniques/train.csv\""
      ],
      "execution_count": 4,
      "outputs": []
    },
    {
      "cell_type": "code",
      "metadata": {
        "id": "Pn8c7PbBZH-f"
      },
      "source": [
        "df = pd.read_csv(path)"
      ],
      "execution_count": 5,
      "outputs": []
    },
    {
      "cell_type": "code",
      "metadata": {
        "id": "ss_eYyUkZKdQ"
      },
      "source": [
        "to_drop = []\n",
        "for i in df.columns:\n",
        "  if df[i].isna().sum() > 500:\n",
        "    to_drop.append(i)"
      ],
      "execution_count": 6,
      "outputs": []
    },
    {
      "cell_type": "code",
      "metadata": {
        "id": "Wc13f8TuZOPg"
      },
      "source": [
        "df = df.drop(columns = to_drop)"
      ],
      "execution_count": 7,
      "outputs": []
    },
    {
      "cell_type": "code",
      "metadata": {
        "id": "6kACvE3te_O8"
      },
      "source": [
        "encoder = LabelEncoder()\n",
        "imputer = SimpleImputer()\n",
        "scaler = StandardScaler()\n",
        "pca = PCA(n_components=6)"
      ],
      "execution_count": 8,
      "outputs": []
    },
    {
      "cell_type": "code",
      "metadata": {
        "id": "vG8QJ0ZncDKL"
      },
      "source": [
        "for i in df.columns:\n",
        "  if df[i].dtype != \"int\" and df[i].dtype != \"float\":\n",
        "    df[i] = df[i].fillna(df[i].value_counts().idxmax())\n",
        "    df[i] = encoder.fit_transform(df[i])"
      ],
      "execution_count": 9,
      "outputs": []
    },
    {
      "cell_type": "code",
      "metadata": {
        "id": "BtLgWQF5dgvw"
      },
      "source": [
        "imputer = SimpleImputer()"
      ],
      "execution_count": 10,
      "outputs": []
    },
    {
      "cell_type": "code",
      "metadata": {
        "id": "1Z-_j-KtgnZI"
      },
      "source": [
        "X = df.drop(columns = [\"SalePrice\"])\n",
        "X = imputer.fit_transform(X)"
      ],
      "execution_count": 11,
      "outputs": []
    },
    {
      "cell_type": "code",
      "metadata": {
        "id": "z8m5F58Mgnje"
      },
      "source": [
        "y = df[\"SalePrice\"]"
      ],
      "execution_count": 12,
      "outputs": []
    },
    {
      "cell_type": "code",
      "metadata": {
        "id": "jEKbw90Ld5tY"
      },
      "source": [
        "train_X, test_X, train_y, test_y = train_test_split(X, y, test_size = 0.1, random_state=42)"
      ],
      "execution_count": 13,
      "outputs": []
    },
    {
      "cell_type": "code",
      "metadata": {
        "id": "mnqUEh5cgQKx"
      },
      "source": [
        "train_X = scaler.fit_transform(train_X)\n",
        "test_X = scaler.transform(test_X)\n",
        "train_X = pca.fit_transform(train_X)\n",
        "test_X = pca.transform(test_X)"
      ],
      "execution_count": 14,
      "outputs": []
    },
    {
      "cell_type": "code",
      "metadata": {
        "id": "9DBL0mmJka2G"
      },
      "source": [
        "rfc = RandomForestRegressor()"
      ],
      "execution_count": 15,
      "outputs": []
    },
    {
      "cell_type": "code",
      "metadata": {
        "colab": {
          "base_uri": "https://localhost:8080/"
        },
        "id": "CiIiHG_vll3g",
        "outputId": "aaac62dc-e0c0-4342-983f-ee07baaa74aa"
      },
      "source": [
        "rfc.fit(train_X, train_y)"
      ],
      "execution_count": 16,
      "outputs": [
        {
          "output_type": "execute_result",
          "data": {
            "text/plain": [
              "RandomForestRegressor(bootstrap=True, ccp_alpha=0.0, criterion='mse',\n",
              "                      max_depth=None, max_features='auto', max_leaf_nodes=None,\n",
              "                      max_samples=None, min_impurity_decrease=0.0,\n",
              "                      min_impurity_split=None, min_samples_leaf=1,\n",
              "                      min_samples_split=2, min_weight_fraction_leaf=0.0,\n",
              "                      n_estimators=100, n_jobs=None, oob_score=False,\n",
              "                      random_state=None, verbose=0, warm_start=False)"
            ]
          },
          "metadata": {},
          "execution_count": 16
        }
      ]
    },
    {
      "cell_type": "code",
      "metadata": {
        "id": "kOnTIRD1lpxc"
      },
      "source": [
        "rfc_pred = rfc.predict(test_X)"
      ],
      "execution_count": 17,
      "outputs": []
    },
    {
      "cell_type": "code",
      "metadata": {
        "colab": {
          "base_uri": "https://localhost:8080/"
        },
        "id": "PTrl8i4Slxky",
        "outputId": "1ed14069-42b6-40bd-d131-1adcd1f42519"
      },
      "source": [
        "r2_score(test_y, rfc_pred)"
      ],
      "execution_count": 18,
      "outputs": [
        {
          "output_type": "execute_result",
          "data": {
            "text/plain": [
              "0.899845536129981"
            ]
          },
          "metadata": {},
          "execution_count": 18
        }
      ]
    },
    {
      "cell_type": "code",
      "metadata": {
        "id": "BuI8-sM7mC6o"
      },
      "source": [
        "boost = GradientBoostingRegressor()"
      ],
      "execution_count": 19,
      "outputs": []
    },
    {
      "cell_type": "code",
      "metadata": {
        "colab": {
          "base_uri": "https://localhost:8080/"
        },
        "id": "yLReh5daqDpa",
        "outputId": "13e9c8c9-2ebb-4938-e8b6-8860aea40b6b"
      },
      "source": [
        "boost.fit(train_X, train_y)"
      ],
      "execution_count": 20,
      "outputs": [
        {
          "output_type": "execute_result",
          "data": {
            "text/plain": [
              "GradientBoostingRegressor(alpha=0.9, ccp_alpha=0.0, criterion='friedman_mse',\n",
              "                          init=None, learning_rate=0.1, loss='ls', max_depth=3,\n",
              "                          max_features=None, max_leaf_nodes=None,\n",
              "                          min_impurity_decrease=0.0, min_impurity_split=None,\n",
              "                          min_samples_leaf=1, min_samples_split=2,\n",
              "                          min_weight_fraction_leaf=0.0, n_estimators=100,\n",
              "                          n_iter_no_change=None, presort='deprecated',\n",
              "                          random_state=None, subsample=1.0, tol=0.0001,\n",
              "                          validation_fraction=0.1, verbose=0, warm_start=False)"
            ]
          },
          "metadata": {},
          "execution_count": 20
        }
      ]
    },
    {
      "cell_type": "code",
      "metadata": {
        "id": "O6TGVGf-qH9B"
      },
      "source": [
        "boost_pred = boost.predict(test_X)"
      ],
      "execution_count": 21,
      "outputs": []
    },
    {
      "cell_type": "code",
      "metadata": {
        "colab": {
          "base_uri": "https://localhost:8080/"
        },
        "id": "U7U0rCOmqW-Z",
        "outputId": "4aea24d5-246c-418a-f31c-1254927ac80b"
      },
      "source": [
        "r2_score(test_y, boost_pred)"
      ],
      "execution_count": 22,
      "outputs": [
        {
          "output_type": "execute_result",
          "data": {
            "text/plain": [
              "0.8926335367879823"
            ]
          },
          "metadata": {},
          "execution_count": 22
        }
      ]
    },
    {
      "cell_type": "code",
      "metadata": {
        "id": "zW-cwQLCqatD"
      },
      "source": [
        "xboost = XGBRegressor()"
      ],
      "execution_count": 23,
      "outputs": []
    },
    {
      "cell_type": "code",
      "metadata": {
        "colab": {
          "base_uri": "https://localhost:8080/"
        },
        "id": "83LI5I1Drrb3",
        "outputId": "e42bc86b-9ab8-4fd0-b0ac-9b15289a12a0"
      },
      "source": [
        "xboost.fit(train_X, train_y)"
      ],
      "execution_count": 24,
      "outputs": [
        {
          "output_type": "stream",
          "name": "stdout",
          "text": [
            "[12:59:59] WARNING: /workspace/src/objective/regression_obj.cu:152: reg:linear is now deprecated in favor of reg:squarederror.\n"
          ]
        },
        {
          "output_type": "execute_result",
          "data": {
            "text/plain": [
              "XGBRegressor(base_score=0.5, booster='gbtree', colsample_bylevel=1,\n",
              "             colsample_bynode=1, colsample_bytree=1, gamma=0,\n",
              "             importance_type='gain', learning_rate=0.1, max_delta_step=0,\n",
              "             max_depth=3, min_child_weight=1, missing=None, n_estimators=100,\n",
              "             n_jobs=1, nthread=None, objective='reg:linear', random_state=0,\n",
              "             reg_alpha=0, reg_lambda=1, scale_pos_weight=1, seed=None,\n",
              "             silent=None, subsample=1, verbosity=1)"
            ]
          },
          "metadata": {},
          "execution_count": 24
        }
      ]
    },
    {
      "cell_type": "code",
      "metadata": {
        "id": "M2bTWZEjrv1i"
      },
      "source": [
        "xboost_pred = xboost.predict(test_X)"
      ],
      "execution_count": 25,
      "outputs": []
    },
    {
      "cell_type": "code",
      "metadata": {
        "colab": {
          "base_uri": "https://localhost:8080/"
        },
        "id": "kDJu-HvHr0Iy",
        "outputId": "947f7f63-b97e-46a8-9345-af8d3ebae0f8"
      },
      "source": [
        "r2_score(test_y, xboost_pred)"
      ],
      "execution_count": 26,
      "outputs": [
        {
          "output_type": "execute_result",
          "data": {
            "text/plain": [
              "0.8991741336469591"
            ]
          },
          "metadata": {},
          "execution_count": 26
        }
      ]
    },
    {
      "cell_type": "code",
      "metadata": {
        "id": "qRdVNTWrr8sQ"
      },
      "source": [
        "estimators = [(\"rfc\", rfc), (\"boost\", boost)]"
      ],
      "execution_count": 27,
      "outputs": []
    },
    {
      "cell_type": "code",
      "metadata": {
        "id": "3pTaS8fStuXX"
      },
      "source": [
        "stacked = StackingRegressor(estimators=estimators, final_estimator=xboost)"
      ],
      "execution_count": 28,
      "outputs": []
    },
    {
      "cell_type": "code",
      "metadata": {
        "colab": {
          "base_uri": "https://localhost:8080/"
        },
        "id": "ZaWDGRyAt2-W",
        "outputId": "ebe6cbe0-907d-478f-ccf4-3bec2d3f5f7e"
      },
      "source": [
        "stacked.fit(train_X, train_y)"
      ],
      "execution_count": 29,
      "outputs": [
        {
          "output_type": "stream",
          "name": "stdout",
          "text": [
            "[13:00:04] WARNING: /workspace/src/objective/regression_obj.cu:152: reg:linear is now deprecated in favor of reg:squarederror.\n"
          ]
        },
        {
          "output_type": "execute_result",
          "data": {
            "text/plain": [
              "StackingRegressor(cv=None,\n",
              "                  estimators=[('rfc',\n",
              "                               RandomForestRegressor(bootstrap=True,\n",
              "                                                     ccp_alpha=0.0,\n",
              "                                                     criterion='mse',\n",
              "                                                     max_depth=None,\n",
              "                                                     max_features='auto',\n",
              "                                                     max_leaf_nodes=None,\n",
              "                                                     max_samples=None,\n",
              "                                                     min_impurity_decrease=0.0,\n",
              "                                                     min_impurity_split=None,\n",
              "                                                     min_samples_leaf=1,\n",
              "                                                     min_samples_split=2,\n",
              "                                                     min_weight_fraction_leaf=0.0,\n",
              "                                                     n_estimators=100,\n",
              "                                                     n_jobs=None,\n",
              "                                                     oob_score=False,\n",
              "                                                     ran...\n",
              "                                               colsample_bynode=1,\n",
              "                                               colsample_bytree=1, gamma=0,\n",
              "                                               importance_type='gain',\n",
              "                                               learning_rate=0.1,\n",
              "                                               max_delta_step=0, max_depth=3,\n",
              "                                               min_child_weight=1, missing=None,\n",
              "                                               n_estimators=100, n_jobs=1,\n",
              "                                               nthread=None,\n",
              "                                               objective='reg:linear',\n",
              "                                               random_state=0, reg_alpha=0,\n",
              "                                               reg_lambda=1, scale_pos_weight=1,\n",
              "                                               seed=None, silent=None,\n",
              "                                               subsample=1, verbosity=1),\n",
              "                  n_jobs=None, passthrough=False, verbose=0)"
            ]
          },
          "metadata": {},
          "execution_count": 29
        }
      ]
    },
    {
      "cell_type": "code",
      "metadata": {
        "id": "FAERDQg-t7Ia"
      },
      "source": [
        "stack_pred = stacked.predict(test_X)"
      ],
      "execution_count": 30,
      "outputs": []
    },
    {
      "cell_type": "code",
      "metadata": {
        "colab": {
          "base_uri": "https://localhost:8080/"
        },
        "id": "TnUCFiZRuAi7",
        "outputId": "26cba2e9-7c4f-4572-df07-388c51cd4eb7"
      },
      "source": [
        "r2_score(test_y, stack_pred)"
      ],
      "execution_count": 31,
      "outputs": [
        {
          "output_type": "execute_result",
          "data": {
            "text/plain": [
              "0.8794637991136866"
            ]
          },
          "metadata": {},
          "execution_count": 31
        }
      ]
    },
    {
      "cell_type": "code",
      "metadata": {
        "id": "e4_HqzPbuJUK"
      },
      "source": [
        "estims = [(\"rfc\", rfc), (\"boost\", boost), (\"xboost\", xboost)]"
      ],
      "execution_count": 32,
      "outputs": []
    },
    {
      "cell_type": "code",
      "metadata": {
        "id": "aS52FBoLueIM"
      },
      "source": [
        "voted = VotingRegressor(estimators=estims)"
      ],
      "execution_count": 33,
      "outputs": []
    },
    {
      "cell_type": "code",
      "metadata": {
        "colab": {
          "base_uri": "https://localhost:8080/"
        },
        "id": "uUAgXbYBuiyK",
        "outputId": "99069939-b792-470c-859a-917764d2cdfa"
      },
      "source": [
        "voted.fit(train_X, train_y)"
      ],
      "execution_count": 34,
      "outputs": [
        {
          "output_type": "stream",
          "name": "stdout",
          "text": [
            "[13:00:05] WARNING: /workspace/src/objective/regression_obj.cu:152: reg:linear is now deprecated in favor of reg:squarederror.\n"
          ]
        },
        {
          "output_type": "execute_result",
          "data": {
            "text/plain": [
              "VotingRegressor(estimators=[('rfc',\n",
              "                             RandomForestRegressor(bootstrap=True,\n",
              "                                                   ccp_alpha=0.0,\n",
              "                                                   criterion='mse',\n",
              "                                                   max_depth=None,\n",
              "                                                   max_features='auto',\n",
              "                                                   max_leaf_nodes=None,\n",
              "                                                   max_samples=None,\n",
              "                                                   min_impurity_decrease=0.0,\n",
              "                                                   min_impurity_split=None,\n",
              "                                                   min_samples_leaf=1,\n",
              "                                                   min_samples_split=2,\n",
              "                                                   min_weight_fraction_leaf=0.0,\n",
              "                                                   n_estimators=100,\n",
              "                                                   n_jobs=None, oob_score=False,\n",
              "                                                   random_state=...\n",
              "                                          colsample_bylevel=1,\n",
              "                                          colsample_bynode=1,\n",
              "                                          colsample_bytree=1, gamma=0,\n",
              "                                          importance_type='gain',\n",
              "                                          learning_rate=0.1, max_delta_step=0,\n",
              "                                          max_depth=3, min_child_weight=1,\n",
              "                                          missing=None, n_estimators=100,\n",
              "                                          n_jobs=1, nthread=None,\n",
              "                                          objective='reg:linear',\n",
              "                                          random_state=0, reg_alpha=0,\n",
              "                                          reg_lambda=1, scale_pos_weight=1,\n",
              "                                          seed=None, silent=None, subsample=1,\n",
              "                                          verbosity=1))],\n",
              "                n_jobs=None, weights=None)"
            ]
          },
          "metadata": {},
          "execution_count": 34
        }
      ]
    },
    {
      "cell_type": "code",
      "metadata": {
        "id": "BAHfm-yRumLJ"
      },
      "source": [
        "voted_pred = voted.predict(test_X)"
      ],
      "execution_count": 35,
      "outputs": []
    },
    {
      "cell_type": "code",
      "metadata": {
        "colab": {
          "base_uri": "https://localhost:8080/"
        },
        "id": "mHJu3KVJurEk",
        "outputId": "d032b0e6-51bc-466e-bf6a-873405d20bae"
      },
      "source": [
        "r2_score(test_y, voted_pred)"
      ],
      "execution_count": 36,
      "outputs": [
        {
          "output_type": "execute_result",
          "data": {
            "text/plain": [
              "0.8979014734091381"
            ]
          },
          "metadata": {},
          "execution_count": 36
        }
      ]
    },
    {
      "cell_type": "code",
      "metadata": {
        "id": "ZLZpMP5suzGX"
      },
      "source": [
        "path2 = \"/content/datasets/MyDrive/datasets/house-prices-advanced-regression-techniques/test.csv\""
      ],
      "execution_count": 37,
      "outputs": []
    },
    {
      "cell_type": "code",
      "metadata": {
        "id": "f9IMx8p0v5u-"
      },
      "source": [
        "tdf = pd.read_csv(path2)"
      ],
      "execution_count": 38,
      "outputs": []
    },
    {
      "cell_type": "code",
      "metadata": {
        "id": "OGN42_gMv_g8"
      },
      "source": [
        "to_drop = []\n",
        "for i in tdf.columns:\n",
        "  if tdf[i].isna().sum() > 500:\n",
        "    to_drop.append(i)"
      ],
      "execution_count": 39,
      "outputs": []
    },
    {
      "cell_type": "code",
      "metadata": {
        "id": "QblWT48owA3b"
      },
      "source": [
        "tdf = tdf.drop(columns = to_drop)"
      ],
      "execution_count": 40,
      "outputs": []
    },
    {
      "cell_type": "code",
      "metadata": {
        "id": "b5j38nYUwOqr"
      },
      "source": [
        "for i in tdf.columns:\n",
        "  if tdf[i].dtype != \"int\" and tdf[i].dtype != \"float\":\n",
        "    tdf[i] = tdf[i].fillna(tdf[i].value_counts().idxmax())\n",
        "    tdf[i] = encoder.fit_transform(tdf[i])"
      ],
      "execution_count": 41,
      "outputs": []
    },
    {
      "cell_type": "code",
      "metadata": {
        "id": "toF-ZWGfwY_S"
      },
      "source": [
        "tdf = imputer.fit_transform(tdf)"
      ],
      "execution_count": 42,
      "outputs": []
    },
    {
      "cell_type": "code",
      "metadata": {
        "id": "LvrYkPimxdUJ"
      },
      "source": [
        "tdf = scaler.transform(tdf)"
      ],
      "execution_count": 43,
      "outputs": []
    },
    {
      "cell_type": "code",
      "metadata": {
        "id": "ANjoh_9xxtdV"
      },
      "source": [
        "tdf = pca.transform(tdf)"
      ],
      "execution_count": 44,
      "outputs": []
    },
    {
      "cell_type": "code",
      "metadata": {
        "id": "9kVAif3Cx1wT"
      },
      "source": [
        "predictions = voted.predict(tdf)"
      ],
      "execution_count": 45,
      "outputs": []
    },
    {
      "cell_type": "code",
      "metadata": {
        "colab": {
          "base_uri": "https://localhost:8080/"
        },
        "id": "O5pBmuOtyBxT",
        "outputId": "179704a1-b67d-4614-a5b6-a249e1a9c733"
      },
      "source": [
        "predictions"
      ],
      "execution_count": 46,
      "outputs": [
        {
          "output_type": "execute_result",
          "data": {
            "text/plain": [
              "array([126795.21018301, 158390.63978601, 186341.20453251, ...,\n",
              "       178452.42177623, 129511.06359205, 249047.38791488])"
            ]
          },
          "metadata": {},
          "execution_count": 46
        }
      ]
    },
    {
      "cell_type": "code",
      "metadata": {
        "id": "ne1qR7KDyDaY"
      },
      "source": [
        "kaggle = pd.read_csv(path2)[[\"Id\"]]"
      ],
      "execution_count": 47,
      "outputs": []
    },
    {
      "cell_type": "code",
      "metadata": {
        "id": "PDH0f50pyJIj"
      },
      "source": [
        "kaggle.insert(1, \"SalePrice\", predictions)"
      ],
      "execution_count": 48,
      "outputs": []
    },
    {
      "cell_type": "code",
      "metadata": {
        "id": "PNz0nKhnyXNw"
      },
      "source": [
        "kaggle.to_csv(\"predictions.csv\", index=False)"
      ],
      "execution_count": 49,
      "outputs": []
    },
    {
      "cell_type": "code",
      "metadata": {
        "id": "UvaMYeVhyYhz"
      },
      "source": [
        ""
      ],
      "execution_count": 49,
      "outputs": []
    }
  ]
}