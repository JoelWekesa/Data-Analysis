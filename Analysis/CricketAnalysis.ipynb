{
 "cells": [
  {
   "cell_type": "code",
   "execution_count": 1,
   "metadata": {},
   "outputs": [],
   "source": [
    "import pandas as pd \r\n",
    "import numpy as np\r\n",
    "import seaborn as sns\r\n",
    "import os\r\n",
    "\r\n",
    "sns.set_style(\"darkgrid\")"
   ]
  },
  {
   "cell_type": "code",
   "execution_count": 2,
   "metadata": {},
   "outputs": [],
   "source": [
    "df = pd.read_excel(r\"D:\\Files\\DataSets\\2019Cricket\\2019ODICricketMatches.xlsx\") "
   ]
  },
  {
   "cell_type": "code",
   "execution_count": 53,
   "metadata": {},
   "outputs": [
    {
     "name": "stderr",
     "output_type": "stream",
     "text": [
      "<ipython-input-53-dd1f68e3e9d1>:1: FutureWarning: Treating datetime data as categorical rather than numeric in `.describe` is deprecated and will be removed in a future version of pandas. Specify `datetime_is_numeric=True` to silence this warning and adopt the future behavior now.\n",
      "  df.describe()\n"
     ]
    },
    {
     "data": {
      "text/html": [
       "<div>\n",
       "<style scoped>\n",
       "    .dataframe tbody tr th:only-of-type {\n",
       "        vertical-align: middle;\n",
       "    }\n",
       "\n",
       "    .dataframe tbody tr th {\n",
       "        vertical-align: top;\n",
       "    }\n",
       "\n",
       "    .dataframe thead th {\n",
       "        text-align: right;\n",
       "    }\n",
       "</style>\n",
       "<table border=\"1\" class=\"dataframe\">\n",
       "  <thead>\n",
       "    <tr style=\"text-align: right;\">\n",
       "      <th></th>\n",
       "      <th>Team 1</th>\n",
       "      <th>Team 2</th>\n",
       "      <th>Winner</th>\n",
       "      <th>Looser</th>\n",
       "      <th>Lost By</th>\n",
       "      <th>Margin</th>\n",
       "      <th>Win by Runs</th>\n",
       "      <th>Win by Wickets</th>\n",
       "      <th>Ground</th>\n",
       "      <th>Match Date</th>\n",
       "      <th>Scorecard</th>\n",
       "    </tr>\n",
       "  </thead>\n",
       "  <tbody>\n",
       "    <tr>\n",
       "      <th>count</th>\n",
       "      <td>128</td>\n",
       "      <td>128</td>\n",
       "      <td>128</td>\n",
       "      <td>123</td>\n",
       "      <td>121</td>\n",
       "      <td>123</td>\n",
       "      <td>63</td>\n",
       "      <td>58</td>\n",
       "      <td>128</td>\n",
       "      <td>128</td>\n",
       "      <td>128</td>\n",
       "    </tr>\n",
       "    <tr>\n",
       "      <th>unique</th>\n",
       "      <td>17</td>\n",
       "      <td>16</td>\n",
       "      <td>20</td>\n",
       "      <td>18</td>\n",
       "      <td>2</td>\n",
       "      <td>63</td>\n",
       "      <td>53</td>\n",
       "      <td>8</td>\n",
       "      <td>50</td>\n",
       "      <td>102</td>\n",
       "      <td>128</td>\n",
       "    </tr>\n",
       "    <tr>\n",
       "      <th>top</th>\n",
       "      <td>Afghanistan</td>\n",
       "      <td>Pakistan</td>\n",
       "      <td>England</td>\n",
       "      <td>Zimbabwe</td>\n",
       "      <td>Runs</td>\n",
       "      <td>5 wickets</td>\n",
       "      <td>3 runs</td>\n",
       "      <td>5 wickets</td>\n",
       "      <td>Harare</td>\n",
       "      <td>2018-03-06 00:00:00</td>\n",
       "      <td>ODI # 3972</td>\n",
       "    </tr>\n",
       "    <tr>\n",
       "      <th>freq</th>\n",
       "      <td>16</td>\n",
       "      <td>18</td>\n",
       "      <td>17</td>\n",
       "      <td>20</td>\n",
       "      <td>63</td>\n",
       "      <td>10</td>\n",
       "      <td>4</td>\n",
       "      <td>10</td>\n",
       "      <td>16</td>\n",
       "      <td>4</td>\n",
       "      <td>1</td>\n",
       "    </tr>\n",
       "    <tr>\n",
       "      <th>first</th>\n",
       "      <td>NaN</td>\n",
       "      <td>NaN</td>\n",
       "      <td>NaN</td>\n",
       "      <td>NaN</td>\n",
       "      <td>NaN</td>\n",
       "      <td>NaN</td>\n",
       "      <td>NaN</td>\n",
       "      <td>NaN</td>\n",
       "      <td>NaN</td>\n",
       "      <td>2018-01-06 00:00:00</td>\n",
       "      <td>NaN</td>\n",
       "    </tr>\n",
       "    <tr>\n",
       "      <th>last</th>\n",
       "      <td>NaN</td>\n",
       "      <td>NaN</td>\n",
       "      <td>NaN</td>\n",
       "      <td>NaN</td>\n",
       "      <td>NaN</td>\n",
       "      <td>NaN</td>\n",
       "      <td>NaN</td>\n",
       "      <td>NaN</td>\n",
       "      <td>NaN</td>\n",
       "      <td>2018-12-14 00:00:00</td>\n",
       "      <td>NaN</td>\n",
       "    </tr>\n",
       "  </tbody>\n",
       "</table>\n",
       "</div>"
      ],
      "text/plain": [
       "             Team 1    Team 2   Winner    Looser Lost By     Margin  \\\n",
       "count           128       128      128       123     121        123   \n",
       "unique           17        16       20        18       2         63   \n",
       "top     Afghanistan  Pakistan  England  Zimbabwe    Runs  5 wickets   \n",
       "freq             16        18       17        20      63         10   \n",
       "first           NaN       NaN      NaN       NaN     NaN        NaN   \n",
       "last            NaN       NaN      NaN       NaN     NaN        NaN   \n",
       "\n",
       "       Win by Runs Win by Wickets  Ground           Match Date   Scorecard  \n",
       "count           63             58     128                  128         128  \n",
       "unique          53              8      50                  102         128  \n",
       "top         3 runs      5 wickets  Harare  2018-03-06 00:00:00  ODI # 3972  \n",
       "freq             4             10      16                    4           1  \n",
       "first          NaN            NaN     NaN  2018-01-06 00:00:00         NaN  \n",
       "last           NaN            NaN     NaN  2018-12-14 00:00:00         NaN  "
      ]
     },
     "execution_count": 53,
     "metadata": {},
     "output_type": "execute_result"
    }
   ],
   "source": [
    "df.describe() "
   ]
  },
  {
   "cell_type": "code",
   "execution_count": 4,
   "metadata": {},
   "outputs": [
    {
     "name": "stdout",
     "output_type": "stream",
     "text": [
      "<class 'pandas.core.frame.DataFrame'>\n",
      "RangeIndex: 128 entries, 0 to 127\n",
      "Data columns (total 7 columns):\n",
      " #   Column      Non-Null Count  Dtype         \n",
      "---  ------      --------------  -----         \n",
      " 0   Team 1      128 non-null    object        \n",
      " 1   Team 2      128 non-null    object        \n",
      " 2   Winner      128 non-null    object        \n",
      " 3   Margin      123 non-null    object        \n",
      " 4   Ground      128 non-null    object        \n",
      " 5   Match Date  128 non-null    datetime64[ns]\n",
      " 6   Scorecard   128 non-null    object        \n",
      "dtypes: datetime64[ns](1), object(6)\n",
      "memory usage: 7.1+ KB\n"
     ]
    }
   ],
   "source": [
    "df.info() "
   ]
  },
  {
   "cell_type": "markdown",
   "metadata": {},
   "source": [
    "# Transform margin column into two columns. One for wickets and the other for wins. "
   ]
  },
  {
   "cell_type": "code",
   "execution_count": 5,
   "metadata": {},
   "outputs": [
    {
     "data": {
      "text/html": [
       "<div>\n",
       "<style scoped>\n",
       "    .dataframe tbody tr th:only-of-type {\n",
       "        vertical-align: middle;\n",
       "    }\n",
       "\n",
       "    .dataframe tbody tr th {\n",
       "        vertical-align: top;\n",
       "    }\n",
       "\n",
       "    .dataframe thead th {\n",
       "        text-align: right;\n",
       "    }\n",
       "</style>\n",
       "<table border=\"1\" class=\"dataframe\">\n",
       "  <thead>\n",
       "    <tr style=\"text-align: right;\">\n",
       "      <th></th>\n",
       "      <th>Team 1</th>\n",
       "      <th>Team 2</th>\n",
       "      <th>Winner</th>\n",
       "      <th>Margin</th>\n",
       "      <th>Ground</th>\n",
       "      <th>Match Date</th>\n",
       "      <th>Scorecard</th>\n",
       "    </tr>\n",
       "  </thead>\n",
       "  <tbody>\n",
       "    <tr>\n",
       "      <th>0</th>\n",
       "      <td>New Zealand</td>\n",
       "      <td>Pakistan</td>\n",
       "      <td>New Zealand</td>\n",
       "      <td>61 runs</td>\n",
       "      <td>Wellington</td>\n",
       "      <td>2018-01-06</td>\n",
       "      <td>ODI # 3946</td>\n",
       "    </tr>\n",
       "    <tr>\n",
       "      <th>1</th>\n",
       "      <td>New Zealand</td>\n",
       "      <td>Pakistan</td>\n",
       "      <td>New Zealand</td>\n",
       "      <td>8 wickets</td>\n",
       "      <td>Nelson</td>\n",
       "      <td>2018-01-09</td>\n",
       "      <td>ODI # 3947</td>\n",
       "    </tr>\n",
       "    <tr>\n",
       "      <th>2</th>\n",
       "      <td>U.A.E.</td>\n",
       "      <td>Ireland</td>\n",
       "      <td>Ireland</td>\n",
       "      <td>4 wickets</td>\n",
       "      <td>ICCA Dubai</td>\n",
       "      <td>2018-01-11</td>\n",
       "      <td>ODI # 3948</td>\n",
       "    </tr>\n",
       "    <tr>\n",
       "      <th>3</th>\n",
       "      <td>New Zealand</td>\n",
       "      <td>Pakistan</td>\n",
       "      <td>New Zealand</td>\n",
       "      <td>183 runs</td>\n",
       "      <td>Dunedin</td>\n",
       "      <td>2018-01-13</td>\n",
       "      <td>ODI # 3949</td>\n",
       "    </tr>\n",
       "    <tr>\n",
       "      <th>4</th>\n",
       "      <td>U.A.E.</td>\n",
       "      <td>Ireland</td>\n",
       "      <td>Ireland</td>\n",
       "      <td>67 runs</td>\n",
       "      <td>ICCA Dubai</td>\n",
       "      <td>2018-01-13</td>\n",
       "      <td>ODI # 3950</td>\n",
       "    </tr>\n",
       "  </tbody>\n",
       "</table>\n",
       "</div>"
      ],
      "text/plain": [
       "        Team 1    Team 2       Winner     Margin      Ground Match Date  \\\n",
       "0  New Zealand  Pakistan  New Zealand    61 runs  Wellington 2018-01-06   \n",
       "1  New Zealand  Pakistan  New Zealand  8 wickets      Nelson 2018-01-09   \n",
       "2       U.A.E.   Ireland      Ireland  4 wickets  ICCA Dubai 2018-01-11   \n",
       "3  New Zealand  Pakistan  New Zealand   183 runs     Dunedin 2018-01-13   \n",
       "4       U.A.E.   Ireland      Ireland    67 runs  ICCA Dubai 2018-01-13   \n",
       "\n",
       "    Scorecard  \n",
       "0  ODI # 3946  \n",
       "1  ODI # 3947  \n",
       "2  ODI # 3948  \n",
       "3  ODI # 3949  \n",
       "4  ODI # 3950  "
      ]
     },
     "execution_count": 5,
     "metadata": {},
     "output_type": "execute_result"
    }
   ],
   "source": [
    "df.head() \r\n",
    "    "
   ]
  },
  {
   "cell_type": "code",
   "execution_count": 6,
   "metadata": {},
   "outputs": [],
   "source": [
    "def runs(margin):\r\n",
    "    try:\r\n",
    "        if \"runs\" in margin:\r\n",
    "            return margin\r\n",
    "        else: return np.nan\r\n",
    "    except TypeError:\r\n",
    "        return np.nan\r\n"
   ]
  },
  {
   "cell_type": "code",
   "execution_count": 7,
   "metadata": {},
   "outputs": [
    {
     "data": {
      "text/plain": [
       "5"
      ]
     },
     "execution_count": 7,
     "metadata": {},
     "output_type": "execute_result"
    }
   ],
   "source": [
    "df[\"Margin\"].isna().sum() "
   ]
  },
  {
   "cell_type": "code",
   "execution_count": 8,
   "metadata": {},
   "outputs": [],
   "source": [
    "winruns = df[\"Margin\"].apply(runs) "
   ]
  },
  {
   "cell_type": "code",
   "execution_count": 9,
   "metadata": {},
   "outputs": [],
   "source": [
    "def wickets(margin):\r\n",
    "    try:\r\n",
    "        if \"wickets\" in margin:\r\n",
    "            return margin\r\n",
    "        else: return np.nan\r\n",
    "    except TypeError:\r\n",
    "        return np.nan"
   ]
  },
  {
   "cell_type": "code",
   "execution_count": 10,
   "metadata": {},
   "outputs": [],
   "source": [
    "winwickets = df[\"Margin\"].apply(wickets) "
   ]
  },
  {
   "cell_type": "code",
   "execution_count": 11,
   "metadata": {},
   "outputs": [],
   "source": [
    "df.insert(df.columns.get_loc(\"Margin\") + 1, \"Win by Runs\", winruns)\r\n",
    "df.insert(df.columns.get_loc(\"Margin\") + 2, \"Win by Wickets\", winwickets) "
   ]
  },
  {
   "cell_type": "code",
   "execution_count": 12,
   "metadata": {},
   "outputs": [
    {
     "data": {
      "text/html": [
       "<div>\n",
       "<style scoped>\n",
       "    .dataframe tbody tr th:only-of-type {\n",
       "        vertical-align: middle;\n",
       "    }\n",
       "\n",
       "    .dataframe tbody tr th {\n",
       "        vertical-align: top;\n",
       "    }\n",
       "\n",
       "    .dataframe thead th {\n",
       "        text-align: right;\n",
       "    }\n",
       "</style>\n",
       "<table border=\"1\" class=\"dataframe\">\n",
       "  <thead>\n",
       "    <tr style=\"text-align: right;\">\n",
       "      <th></th>\n",
       "      <th>Team 1</th>\n",
       "      <th>Team 2</th>\n",
       "      <th>Winner</th>\n",
       "      <th>Margin</th>\n",
       "      <th>Win by Runs</th>\n",
       "      <th>Win by Wickets</th>\n",
       "      <th>Ground</th>\n",
       "      <th>Match Date</th>\n",
       "      <th>Scorecard</th>\n",
       "    </tr>\n",
       "  </thead>\n",
       "  <tbody>\n",
       "    <tr>\n",
       "      <th>0</th>\n",
       "      <td>New Zealand</td>\n",
       "      <td>Pakistan</td>\n",
       "      <td>New Zealand</td>\n",
       "      <td>61 runs</td>\n",
       "      <td>61 runs</td>\n",
       "      <td>NaN</td>\n",
       "      <td>Wellington</td>\n",
       "      <td>2018-01-06</td>\n",
       "      <td>ODI # 3946</td>\n",
       "    </tr>\n",
       "    <tr>\n",
       "      <th>1</th>\n",
       "      <td>New Zealand</td>\n",
       "      <td>Pakistan</td>\n",
       "      <td>New Zealand</td>\n",
       "      <td>8 wickets</td>\n",
       "      <td>NaN</td>\n",
       "      <td>8 wickets</td>\n",
       "      <td>Nelson</td>\n",
       "      <td>2018-01-09</td>\n",
       "      <td>ODI # 3947</td>\n",
       "    </tr>\n",
       "    <tr>\n",
       "      <th>2</th>\n",
       "      <td>U.A.E.</td>\n",
       "      <td>Ireland</td>\n",
       "      <td>Ireland</td>\n",
       "      <td>4 wickets</td>\n",
       "      <td>NaN</td>\n",
       "      <td>4 wickets</td>\n",
       "      <td>ICCA Dubai</td>\n",
       "      <td>2018-01-11</td>\n",
       "      <td>ODI # 3948</td>\n",
       "    </tr>\n",
       "    <tr>\n",
       "      <th>3</th>\n",
       "      <td>New Zealand</td>\n",
       "      <td>Pakistan</td>\n",
       "      <td>New Zealand</td>\n",
       "      <td>183 runs</td>\n",
       "      <td>183 runs</td>\n",
       "      <td>NaN</td>\n",
       "      <td>Dunedin</td>\n",
       "      <td>2018-01-13</td>\n",
       "      <td>ODI # 3949</td>\n",
       "    </tr>\n",
       "    <tr>\n",
       "      <th>4</th>\n",
       "      <td>U.A.E.</td>\n",
       "      <td>Ireland</td>\n",
       "      <td>Ireland</td>\n",
       "      <td>67 runs</td>\n",
       "      <td>67 runs</td>\n",
       "      <td>NaN</td>\n",
       "      <td>ICCA Dubai</td>\n",
       "      <td>2018-01-13</td>\n",
       "      <td>ODI # 3950</td>\n",
       "    </tr>\n",
       "    <tr>\n",
       "      <th>...</th>\n",
       "      <td>...</td>\n",
       "      <td>...</td>\n",
       "      <td>...</td>\n",
       "      <td>...</td>\n",
       "      <td>...</td>\n",
       "      <td>...</td>\n",
       "      <td>...</td>\n",
       "      <td>...</td>\n",
       "      <td>...</td>\n",
       "    </tr>\n",
       "    <tr>\n",
       "      <th>123</th>\n",
       "      <td>Australia</td>\n",
       "      <td>South Africa</td>\n",
       "      <td>South Africa</td>\n",
       "      <td>40 runs</td>\n",
       "      <td>40 runs</td>\n",
       "      <td>NaN</td>\n",
       "      <td>Hobart</td>\n",
       "      <td>2018-11-11</td>\n",
       "      <td>ODI # 4069</td>\n",
       "    </tr>\n",
       "    <tr>\n",
       "      <th>124</th>\n",
       "      <td>New Zealand</td>\n",
       "      <td>Pakistan</td>\n",
       "      <td>no result</td>\n",
       "      <td>NaN</td>\n",
       "      <td>NaN</td>\n",
       "      <td>NaN</td>\n",
       "      <td>Dubai (DSC)</td>\n",
       "      <td>2018-11-11</td>\n",
       "      <td>ODI # 4070</td>\n",
       "    </tr>\n",
       "    <tr>\n",
       "      <th>125</th>\n",
       "      <td>Bangladesh</td>\n",
       "      <td>West Indies</td>\n",
       "      <td>Bangladesh</td>\n",
       "      <td>5 wickets</td>\n",
       "      <td>NaN</td>\n",
       "      <td>5 wickets</td>\n",
       "      <td>Dhaka</td>\n",
       "      <td>2018-12-09</td>\n",
       "      <td>ODI # 4071</td>\n",
       "    </tr>\n",
       "    <tr>\n",
       "      <th>126</th>\n",
       "      <td>Bangladesh</td>\n",
       "      <td>West Indies</td>\n",
       "      <td>West Indies</td>\n",
       "      <td>4 wickets</td>\n",
       "      <td>NaN</td>\n",
       "      <td>4 wickets</td>\n",
       "      <td>Dhaka</td>\n",
       "      <td>2018-12-11</td>\n",
       "      <td>ODI # 4072</td>\n",
       "    </tr>\n",
       "    <tr>\n",
       "      <th>127</th>\n",
       "      <td>Bangladesh</td>\n",
       "      <td>West Indies</td>\n",
       "      <td>Bangladesh</td>\n",
       "      <td>8 wickets</td>\n",
       "      <td>NaN</td>\n",
       "      <td>8 wickets</td>\n",
       "      <td>Sylhet</td>\n",
       "      <td>2018-12-14</td>\n",
       "      <td>ODI # 4073</td>\n",
       "    </tr>\n",
       "  </tbody>\n",
       "</table>\n",
       "<p>128 rows × 9 columns</p>\n",
       "</div>"
      ],
      "text/plain": [
       "          Team 1        Team 2        Winner     Margin Win by Runs  \\\n",
       "0    New Zealand      Pakistan   New Zealand    61 runs     61 runs   \n",
       "1    New Zealand      Pakistan   New Zealand  8 wickets         NaN   \n",
       "2         U.A.E.       Ireland       Ireland  4 wickets         NaN   \n",
       "3    New Zealand      Pakistan   New Zealand   183 runs    183 runs   \n",
       "4         U.A.E.       Ireland       Ireland    67 runs     67 runs   \n",
       "..           ...           ...           ...        ...         ...   \n",
       "123    Australia  South Africa  South Africa    40 runs     40 runs   \n",
       "124  New Zealand      Pakistan     no result        NaN         NaN   \n",
       "125   Bangladesh   West Indies    Bangladesh  5 wickets         NaN   \n",
       "126   Bangladesh   West Indies   West Indies  4 wickets         NaN   \n",
       "127   Bangladesh   West Indies    Bangladesh  8 wickets         NaN   \n",
       "\n",
       "    Win by Wickets       Ground Match Date   Scorecard  \n",
       "0              NaN   Wellington 2018-01-06  ODI # 3946  \n",
       "1        8 wickets       Nelson 2018-01-09  ODI # 3947  \n",
       "2        4 wickets   ICCA Dubai 2018-01-11  ODI # 3948  \n",
       "3              NaN      Dunedin 2018-01-13  ODI # 3949  \n",
       "4              NaN   ICCA Dubai 2018-01-13  ODI # 3950  \n",
       "..             ...          ...        ...         ...  \n",
       "123            NaN       Hobart 2018-11-11  ODI # 4069  \n",
       "124            NaN  Dubai (DSC) 2018-11-11  ODI # 4070  \n",
       "125      5 wickets        Dhaka 2018-12-09  ODI # 4071  \n",
       "126      4 wickets        Dhaka 2018-12-11  ODI # 4072  \n",
       "127      8 wickets       Sylhet 2018-12-14  ODI # 4073  \n",
       "\n",
       "[128 rows x 9 columns]"
      ]
     },
     "execution_count": 12,
     "metadata": {},
     "output_type": "execute_result"
    }
   ],
   "source": [
    "df "
   ]
  },
  {
   "cell_type": "markdown",
   "metadata": {},
   "source": [
    "# Which country played the most ODI in 2018? "
   ]
  },
  {
   "cell_type": "code",
   "execution_count": 13,
   "metadata": {},
   "outputs": [
    {
     "data": {
      "text/plain": [
       "'Zimbabwe'"
      ]
     },
     "execution_count": 13,
     "metadata": {},
     "output_type": "execute_result"
    }
   ],
   "source": [
    "pd.Series(df[\"Team 1\"].tolist() + df[\"Team 2\"].tolist()).value_counts().idxmax()"
   ]
  },
  {
   "cell_type": "markdown",
   "metadata": {},
   "source": [
    "# Top 3 countries who won the most ODIs"
   ]
  },
  {
   "cell_type": "code",
   "execution_count": 14,
   "metadata": {},
   "outputs": [
    {
     "data": {
      "text/plain": [
       "Winner      Winner    \n",
       "England     England       17\n",
       "India       India         14\n",
       "Bangladesh  Bangladesh    13\n",
       "Name: Winner, dtype: int64"
      ]
     },
     "execution_count": 14,
     "metadata": {},
     "output_type": "execute_result"
    }
   ],
   "source": [
    "df.groupby([\"Winner\"])[\"Winner\"].value_counts().sort_values(ascending=False).head(3) "
   ]
  },
  {
   "cell_type": "markdown",
   "metadata": {},
   "source": [
    "# How was the performance of Sri Lanka?"
   ]
  },
  {
   "cell_type": "code",
   "execution_count": 15,
   "metadata": {},
   "outputs": [],
   "source": [
    "filt = df[\"Winner\"] == \"Sri Lanka\""
   ]
  },
  {
   "cell_type": "code",
   "execution_count": 16,
   "metadata": {},
   "outputs": [
    {
     "data": {
      "text/plain": [
       "6"
      ]
     },
     "execution_count": 16,
     "metadata": {},
     "output_type": "execute_result"
    }
   ],
   "source": [
    "# General wins\r\n",
    "df.loc[filt][\"Margin\"].count() "
   ]
  },
  {
   "cell_type": "code",
   "execution_count": 17,
   "metadata": {},
   "outputs": [
    {
     "data": {
      "text/plain": [
       "4"
      ]
     },
     "execution_count": 17,
     "metadata": {},
     "output_type": "execute_result"
    }
   ],
   "source": [
    "# Wins by runs \r\n",
    "df.loc[filt][\"Win by Runs\"].count()"
   ]
  },
  {
   "cell_type": "code",
   "execution_count": 18,
   "metadata": {},
   "outputs": [
    {
     "data": {
      "text/plain": [
       "2"
      ]
     },
     "execution_count": 18,
     "metadata": {},
     "output_type": "execute_result"
    }
   ],
   "source": [
    "# Wins by wickets\r\n",
    "df.loc[filt][\"Win by Wickets\"].count() "
   ]
  },
  {
   "cell_type": "code",
   "execution_count": 19,
   "metadata": {},
   "outputs": [
    {
     "data": {
      "text/plain": [
       "Match Date\n",
       "2018-01-31    3\n",
       "2018-02-28    0\n",
       "2018-03-31    0\n",
       "2018-04-30    0\n",
       "2018-05-31    0\n",
       "2018-06-30    0\n",
       "2018-07-31    0\n",
       "2018-08-31    2\n",
       "2018-09-30    0\n",
       "2018-10-31    1\n",
       "Name: Winner, dtype: int64"
      ]
     },
     "execution_count": 19,
     "metadata": {},
     "output_type": "execute_result"
    }
   ],
   "source": [
    "# Monthly general wins\r\n",
    "df.set_index(\"Match Date\").groupby(\"Winner\").resample(\"m\")[\"Winner\"].count()[\"Sri Lanka\"] "
   ]
  },
  {
   "cell_type": "code",
   "execution_count": 20,
   "metadata": {},
   "outputs": [
    {
     "data": {
      "text/plain": [
       "Match Date\n",
       "2018-01-31    2\n",
       "2018-02-28    0\n",
       "2018-03-31    0\n",
       "2018-04-30    0\n",
       "2018-05-31    0\n",
       "2018-06-30    0\n",
       "2018-07-31    0\n",
       "2018-08-31    0\n",
       "2018-09-30    0\n",
       "2018-10-31    0\n",
       "Name: Win by Wickets, dtype: int64"
      ]
     },
     "execution_count": 20,
     "metadata": {},
     "output_type": "execute_result"
    }
   ],
   "source": [
    "# Monthly wins by wickets\r\n",
    "df.set_index(\"Match Date\").groupby(\"Winner\").resample(\"m\")[\"Win by Wickets\"].count()[\"Sri Lanka\"] "
   ]
  },
  {
   "cell_type": "code",
   "execution_count": 21,
   "metadata": {},
   "outputs": [
    {
     "data": {
      "text/plain": [
       "Match Date\n",
       "2018-01-31    1\n",
       "2018-02-28    0\n",
       "2018-03-31    0\n",
       "2018-04-30    0\n",
       "2018-05-31    0\n",
       "2018-06-30    0\n",
       "2018-07-31    0\n",
       "2018-08-31    2\n",
       "2018-09-30    0\n",
       "2018-10-31    1\n",
       "Name: Win by Runs, dtype: int64"
      ]
     },
     "execution_count": 21,
     "metadata": {},
     "output_type": "execute_result"
    }
   ],
   "source": [
    "# Monthly wins by wickets\r\n",
    "df.set_index(\"Match Date\").groupby(\"Winner\").resample(\"m\")[\"Win by Runs\"].count()[\"Sri Lanka\"] "
   ]
  },
  {
   "cell_type": "code",
   "execution_count": 22,
   "metadata": {},
   "outputs": [
    {
     "name": "stdout",
     "output_type": "stream",
     "text": [
      "0.35294117647058826\n"
     ]
    }
   ],
   "source": [
    "# Win rate\r\n",
    "count = 0\r\n",
    "for country in (df[\"Team 1\"].tolist() + df[\"Team 2\"].tolist()):\r\n",
    "    if country == \"Sri Lanka\":\r\n",
    "        count += 1\r\n",
    "print(df.loc[filt][\"Margin\"].count() / count) "
   ]
  },
  {
   "cell_type": "markdown",
   "metadata": {},
   "source": [
    "# Top 3 wins by runs "
   ]
  },
  {
   "cell_type": "code",
   "execution_count": 23,
   "metadata": {},
   "outputs": [
    {
     "data": {
      "text/plain": [
       "Winner\n",
       "Bangladesh     8\n",
       "England        8\n",
       "Afghanistan    5\n",
       "Name: Win by Runs, dtype: int64"
      ]
     },
     "execution_count": 23,
     "metadata": {},
     "output_type": "execute_result"
    }
   ],
   "source": [
    "df.groupby([\"Winner\"])[\"Win by Runs\"].count().sort_values(ascending = False).head(3) "
   ]
  },
  {
   "cell_type": "markdown",
   "metadata": {},
   "source": [
    "# Month in which most ODIs were played"
   ]
  },
  {
   "cell_type": "code",
   "execution_count": 24,
   "metadata": {},
   "outputs": [
    {
     "data": {
      "text/plain": [
       "Timestamp('2018-03-31 00:00:00')"
      ]
     },
     "execution_count": 24,
     "metadata": {},
     "output_type": "execute_result"
    }
   ],
   "source": [
    "df.set_index(\"Match Date\").resample(\"m\")[\"Scorecard\"].count().sort_values(ascending=False).idxmax() "
   ]
  },
  {
   "cell_type": "markdown",
   "metadata": {},
   "source": [
    "# How many cricket matches were played every month? "
   ]
  },
  {
   "cell_type": "code",
   "execution_count": 25,
   "metadata": {},
   "outputs": [
    {
     "data": {
      "text/plain": [
       "Match Date\n",
       "2018-01-31    23\n",
       "2018-02-28    13\n",
       "2018-03-31    26\n",
       "2018-04-30     0\n",
       "2018-05-31     0\n",
       "2018-06-30     6\n",
       "2018-07-31    12\n",
       "2018-08-31    10\n",
       "2018-09-30    14\n",
       "2018-10-31    14\n",
       "2018-11-30     7\n",
       "2018-12-31     3\n",
       "Freq: M, Name: Scorecard, dtype: int64"
      ]
     },
     "execution_count": 25,
     "metadata": {},
     "output_type": "execute_result"
    }
   ],
   "source": [
    "df.set_index(\"Match Date\").resample(\"m\")[\"Scorecard\"].count()"
   ]
  },
  {
   "cell_type": "markdown",
   "metadata": {},
   "source": [
    "# On which ground most games were played? "
   ]
  },
  {
   "cell_type": "code",
   "execution_count": 26,
   "metadata": {},
   "outputs": [
    {
     "data": {
      "text/plain": [
       "Index(['Team 1', 'Team 2', 'Winner', 'Margin', 'Win by Runs', 'Win by Wickets',\n",
       "       'Ground', 'Match Date', 'Scorecard'],\n",
       "      dtype='object')"
      ]
     },
     "execution_count": 26,
     "metadata": {},
     "output_type": "execute_result"
    }
   ],
   "source": [
    "df.columns "
   ]
  },
  {
   "cell_type": "code",
   "execution_count": 27,
   "metadata": {},
   "outputs": [
    {
     "data": {
      "text/plain": [
       "'Harare'"
      ]
     },
     "execution_count": 27,
     "metadata": {},
     "output_type": "execute_result"
    }
   ],
   "source": [
    "df.groupby([\"Ground\"])[\"Scorecard\"].count().idxmax()  "
   ]
  },
  {
   "cell_type": "markdown",
   "metadata": {},
   "source": [
    "# Did India win mostly by wins or wickets? "
   ]
  },
  {
   "cell_type": "code",
   "execution_count": 28,
   "metadata": {},
   "outputs": [],
   "source": [
    "filt = df[\"Winner\"] == \"India\""
   ]
  },
  {
   "cell_type": "code",
   "execution_count": 29,
   "metadata": {},
   "outputs": [],
   "source": [
    "India_df = df.loc[filt] "
   ]
  },
  {
   "cell_type": "code",
   "execution_count": 30,
   "metadata": {},
   "outputs": [
    {
     "data": {
      "text/html": [
       "<div>\n",
       "<style scoped>\n",
       "    .dataframe tbody tr th:only-of-type {\n",
       "        vertical-align: middle;\n",
       "    }\n",
       "\n",
       "    .dataframe tbody tr th {\n",
       "        vertical-align: top;\n",
       "    }\n",
       "\n",
       "    .dataframe thead th {\n",
       "        text-align: right;\n",
       "    }\n",
       "</style>\n",
       "<table border=\"1\" class=\"dataframe\">\n",
       "  <thead>\n",
       "    <tr style=\"text-align: right;\">\n",
       "      <th></th>\n",
       "      <th>Team 1</th>\n",
       "      <th>Team 2</th>\n",
       "      <th>Winner</th>\n",
       "      <th>Margin</th>\n",
       "      <th>Win by Runs</th>\n",
       "      <th>Win by Wickets</th>\n",
       "      <th>Ground</th>\n",
       "      <th>Match Date</th>\n",
       "      <th>Scorecard</th>\n",
       "    </tr>\n",
       "  </thead>\n",
       "  <tbody>\n",
       "    <tr>\n",
       "      <th>23</th>\n",
       "      <td>South Africa</td>\n",
       "      <td>India</td>\n",
       "      <td>India</td>\n",
       "      <td>6 wickets</td>\n",
       "      <td>NaN</td>\n",
       "      <td>6 wickets</td>\n",
       "      <td>Durban</td>\n",
       "      <td>2018-02-01</td>\n",
       "      <td>ODI # 3969</td>\n",
       "    </tr>\n",
       "    <tr>\n",
       "      <th>24</th>\n",
       "      <td>South Africa</td>\n",
       "      <td>India</td>\n",
       "      <td>India</td>\n",
       "      <td>9 wickets</td>\n",
       "      <td>NaN</td>\n",
       "      <td>9 wickets</td>\n",
       "      <td>Centurion</td>\n",
       "      <td>2018-02-04</td>\n",
       "      <td>ODI # 3970</td>\n",
       "    </tr>\n",
       "    <tr>\n",
       "      <th>25</th>\n",
       "      <td>South Africa</td>\n",
       "      <td>India</td>\n",
       "      <td>India</td>\n",
       "      <td>124 runs</td>\n",
       "      <td>124 runs</td>\n",
       "      <td>NaN</td>\n",
       "      <td>Cape Town</td>\n",
       "      <td>2018-02-07</td>\n",
       "      <td>ODI # 3971</td>\n",
       "    </tr>\n",
       "    <tr>\n",
       "      <th>30</th>\n",
       "      <td>South Africa</td>\n",
       "      <td>India</td>\n",
       "      <td>India</td>\n",
       "      <td>73 runs</td>\n",
       "      <td>73 runs</td>\n",
       "      <td>NaN</td>\n",
       "      <td>Port Elizabeth</td>\n",
       "      <td>2018-02-13</td>\n",
       "      <td>ODI # 3976</td>\n",
       "    </tr>\n",
       "    <tr>\n",
       "      <th>32</th>\n",
       "      <td>South Africa</td>\n",
       "      <td>India</td>\n",
       "      <td>India</td>\n",
       "      <td>8 wickets</td>\n",
       "      <td>NaN</td>\n",
       "      <td>8 wickets</td>\n",
       "      <td>Centurion</td>\n",
       "      <td>2018-02-16</td>\n",
       "      <td>ODI # 3978</td>\n",
       "    </tr>\n",
       "    <tr>\n",
       "      <th>68</th>\n",
       "      <td>England</td>\n",
       "      <td>India</td>\n",
       "      <td>India</td>\n",
       "      <td>8 wickets</td>\n",
       "      <td>NaN</td>\n",
       "      <td>8 wickets</td>\n",
       "      <td>Nottingham</td>\n",
       "      <td>2018-07-12</td>\n",
       "      <td>ODI # 4014</td>\n",
       "    </tr>\n",
       "    <tr>\n",
       "      <th>93</th>\n",
       "      <td>Hong Kong</td>\n",
       "      <td>India</td>\n",
       "      <td>India</td>\n",
       "      <td>26 runs</td>\n",
       "      <td>26 runs</td>\n",
       "      <td>NaN</td>\n",
       "      <td>Dubai (DSC)</td>\n",
       "      <td>2018-09-18</td>\n",
       "      <td>ODI # 4039</td>\n",
       "    </tr>\n",
       "    <tr>\n",
       "      <th>94</th>\n",
       "      <td>India</td>\n",
       "      <td>Pakistan</td>\n",
       "      <td>India</td>\n",
       "      <td>8 wickets</td>\n",
       "      <td>NaN</td>\n",
       "      <td>8 wickets</td>\n",
       "      <td>Dubai (DSC)</td>\n",
       "      <td>2018-09-19</td>\n",
       "      <td>ODI # 4040</td>\n",
       "    </tr>\n",
       "    <tr>\n",
       "      <th>96</th>\n",
       "      <td>Bangladesh</td>\n",
       "      <td>India</td>\n",
       "      <td>India</td>\n",
       "      <td>7 wickets</td>\n",
       "      <td>NaN</td>\n",
       "      <td>7 wickets</td>\n",
       "      <td>Dubai (DSC)</td>\n",
       "      <td>2018-09-21</td>\n",
       "      <td>ODI # 4042</td>\n",
       "    </tr>\n",
       "    <tr>\n",
       "      <th>98</th>\n",
       "      <td>India</td>\n",
       "      <td>Pakistan</td>\n",
       "      <td>India</td>\n",
       "      <td>9 wickets</td>\n",
       "      <td>NaN</td>\n",
       "      <td>9 wickets</td>\n",
       "      <td>Dubai (DSC)</td>\n",
       "      <td>2018-09-23</td>\n",
       "      <td>ODI # 4044</td>\n",
       "    </tr>\n",
       "    <tr>\n",
       "      <th>102</th>\n",
       "      <td>Bangladesh</td>\n",
       "      <td>India</td>\n",
       "      <td>India</td>\n",
       "      <td>3 wickets</td>\n",
       "      <td>NaN</td>\n",
       "      <td>3 wickets</td>\n",
       "      <td>Dubai (DSC)</td>\n",
       "      <td>2018-09-28</td>\n",
       "      <td>ODI # 4048</td>\n",
       "    </tr>\n",
       "    <tr>\n",
       "      <th>110</th>\n",
       "      <td>India</td>\n",
       "      <td>West Indies</td>\n",
       "      <td>India</td>\n",
       "      <td>8 wickets</td>\n",
       "      <td>NaN</td>\n",
       "      <td>8 wickets</td>\n",
       "      <td>Guwahati</td>\n",
       "      <td>2018-10-21</td>\n",
       "      <td>ODI # 4056</td>\n",
       "    </tr>\n",
       "    <tr>\n",
       "      <th>117</th>\n",
       "      <td>India</td>\n",
       "      <td>West Indies</td>\n",
       "      <td>India</td>\n",
       "      <td>224 runs</td>\n",
       "      <td>224 runs</td>\n",
       "      <td>NaN</td>\n",
       "      <td>Mumbai (BS)</td>\n",
       "      <td>2018-10-29</td>\n",
       "      <td>ODI # 4063</td>\n",
       "    </tr>\n",
       "    <tr>\n",
       "      <th>118</th>\n",
       "      <td>India</td>\n",
       "      <td>West Indies</td>\n",
       "      <td>India</td>\n",
       "      <td>9 wickets</td>\n",
       "      <td>NaN</td>\n",
       "      <td>9 wickets</td>\n",
       "      <td>Thiruvananthapuram</td>\n",
       "      <td>2018-11-01</td>\n",
       "      <td>ODI # 4064</td>\n",
       "    </tr>\n",
       "  </tbody>\n",
       "</table>\n",
       "</div>"
      ],
      "text/plain": [
       "           Team 1       Team 2 Winner     Margin Win by Runs Win by Wickets  \\\n",
       "23   South Africa        India  India  6 wickets         NaN      6 wickets   \n",
       "24   South Africa        India  India  9 wickets         NaN      9 wickets   \n",
       "25   South Africa        India  India   124 runs    124 runs            NaN   \n",
       "30   South Africa        India  India    73 runs     73 runs            NaN   \n",
       "32   South Africa        India  India  8 wickets         NaN      8 wickets   \n",
       "68        England        India  India  8 wickets         NaN      8 wickets   \n",
       "93      Hong Kong        India  India    26 runs     26 runs            NaN   \n",
       "94          India     Pakistan  India  8 wickets         NaN      8 wickets   \n",
       "96     Bangladesh        India  India  7 wickets         NaN      7 wickets   \n",
       "98          India     Pakistan  India  9 wickets         NaN      9 wickets   \n",
       "102    Bangladesh        India  India  3 wickets         NaN      3 wickets   \n",
       "110         India  West Indies  India  8 wickets         NaN      8 wickets   \n",
       "117         India  West Indies  India   224 runs    224 runs            NaN   \n",
       "118         India  West Indies  India  9 wickets         NaN      9 wickets   \n",
       "\n",
       "                 Ground Match Date   Scorecard  \n",
       "23               Durban 2018-02-01  ODI # 3969  \n",
       "24            Centurion 2018-02-04  ODI # 3970  \n",
       "25            Cape Town 2018-02-07  ODI # 3971  \n",
       "30       Port Elizabeth 2018-02-13  ODI # 3976  \n",
       "32            Centurion 2018-02-16  ODI # 3978  \n",
       "68           Nottingham 2018-07-12  ODI # 4014  \n",
       "93          Dubai (DSC) 2018-09-18  ODI # 4039  \n",
       "94          Dubai (DSC) 2018-09-19  ODI # 4040  \n",
       "96          Dubai (DSC) 2018-09-21  ODI # 4042  \n",
       "98          Dubai (DSC) 2018-09-23  ODI # 4044  \n",
       "102         Dubai (DSC) 2018-09-28  ODI # 4048  \n",
       "110            Guwahati 2018-10-21  ODI # 4056  \n",
       "117         Mumbai (BS) 2018-10-29  ODI # 4063  \n",
       "118  Thiruvananthapuram 2018-11-01  ODI # 4064  "
      ]
     },
     "execution_count": 30,
     "metadata": {},
     "output_type": "execute_result"
    }
   ],
   "source": [
    "India_df"
   ]
  },
  {
   "cell_type": "code",
   "execution_count": 31,
   "metadata": {},
   "outputs": [
    {
     "name": "stdout",
     "output_type": "stream",
     "text": [
      "India won mostly by wickets\n"
     ]
    }
   ],
   "source": [
    "if India_df[\"Win by Runs\"].count()  > India_df[\"Win by Wickets\"].count():\r\n",
    "    print(\"India won mostly by Runs\")\r\n",
    "elif India_df[\"Win by Runs\"].count()  == India_df[\"Win by Wickets\"].count():\r\n",
    "    print(\"India won by an equal number of wins and runs\")\r\n",
    "else:\r\n",
    "    print(\"India won mostly by wickets\") "
   ]
  },
  {
   "cell_type": "markdown",
   "metadata": {},
   "source": [
    "# Top 3 countries which won most games and what was their win percentage every month"
   ]
  },
  {
   "cell_type": "code",
   "execution_count": 32,
   "metadata": {},
   "outputs": [
    {
     "data": {
      "text/plain": [
       "England       17\n",
       "India         14\n",
       "Bangladesh    13\n",
       "Name: Winner, dtype: int64"
      ]
     },
     "execution_count": 32,
     "metadata": {},
     "output_type": "execute_result"
    }
   ],
   "source": [
    "df[\"Winner\"].value_counts().sort_values(ascending = False).head(3) "
   ]
  },
  {
   "cell_type": "code",
   "execution_count": 33,
   "metadata": {},
   "outputs": [],
   "source": [
    "England_wins = df.set_index(\"Match Date\").groupby(\"Winner\").resample(\"m\")[\"Winner\"].count()[\"England\"] \r\n",
    "India_wins = df.set_index(\"Match Date\").groupby(\"Winner\").resample(\"m\")[\"Winner\"].count()[\"India\"] \r\n",
    "Bangladesh_wins = df.set_index(\"Match Date\").groupby(\"Winner\").resample(\"m\")[\"Winner\"].count()[\"Bangladesh\"]  "
   ]
  },
  {
   "cell_type": "code",
   "execution_count": 34,
   "metadata": {},
   "outputs": [],
   "source": [
    "T1E = df.set_index(\"Match Date\").groupby([\"Team 1\"]).resample(\"m\")[\"Team 1\"].count()[\"England\"] \r\n",
    "T2E = df.set_index(\"Match Date\").groupby([\"Team 2\"]).resample(\"m\")[\"Team 2\"].count()[\"England\"] \r\n",
    "England_matches = T2E.add(T1E, fill_value=0) "
   ]
  },
  {
   "cell_type": "code",
   "execution_count": 35,
   "metadata": {},
   "outputs": [],
   "source": [
    "T1I = df.set_index(\"Match Date\").groupby([\"Team 1\"]).resample(\"m\")[\"Team 1\"].count()[\"India\"] \r\n",
    "T2I = df.set_index(\"Match Date\").groupby([\"Team 2\"]).resample(\"m\")[\"Team 2\"].count()[\"India\"] \r\n",
    "India_matches = T2I.add(T1I, fill_value=0) "
   ]
  },
  {
   "cell_type": "code",
   "execution_count": 36,
   "metadata": {},
   "outputs": [],
   "source": [
    "T1B = df.set_index(\"Match Date\").groupby([\"Team 1\"]).resample(\"m\")[\"Team 1\"].count()[\"Bangladesh\"] \r\n",
    "T2B = df.set_index(\"Match Date\").groupby([\"Team 2\"]).resample(\"m\")[\"Team 2\"].count()[\"Bangladesh\"] \r\n",
    "Bangladesh_matches = T2B.add(T1B, fill_value=0) "
   ]
  },
  {
   "cell_type": "code",
   "execution_count": 37,
   "metadata": {},
   "outputs": [],
   "source": [
    "England_winrate = England_wins.div(England_matches, fill_value=0)\r\n",
    "India_winrate = India_wins.div(India_matches, fill_value=0)\r\n",
    "Bangladesh_winrate = Bangladesh_wins.div(Bangladesh_matches, fill_value=0) "
   ]
  },
  {
   "cell_type": "code",
   "execution_count": 38,
   "metadata": {},
   "outputs": [
    {
     "data": {
      "text/plain": [
       "Match Date\n",
       "2018-01-31    0.800000\n",
       "2018-02-28    0.500000\n",
       "2018-03-31    0.666667\n",
       "2018-04-30         NaN\n",
       "2018-05-31         NaN\n",
       "2018-06-30    0.833333\n",
       "2018-07-31    0.666667\n",
       "2018-08-31         NaN\n",
       "2018-09-30         NaN\n",
       "2018-10-31    0.600000\n",
       "dtype: float64"
      ]
     },
     "execution_count": 38,
     "metadata": {},
     "output_type": "execute_result"
    }
   ],
   "source": [
    "England_winrate"
   ]
  },
  {
   "cell_type": "code",
   "execution_count": 39,
   "metadata": {},
   "outputs": [
    {
     "data": {
      "text/plain": [
       "Match Date\n",
       "2018-02-28    0.833333\n",
       "2018-03-31         NaN\n",
       "2018-04-30         NaN\n",
       "2018-05-31         NaN\n",
       "2018-06-30         NaN\n",
       "2018-07-31    0.333333\n",
       "2018-08-31         NaN\n",
       "2018-09-30    0.833333\n",
       "2018-10-31    0.500000\n",
       "2018-11-30    1.000000\n",
       "dtype: float64"
      ]
     },
     "execution_count": 39,
     "metadata": {},
     "output_type": "execute_result"
    }
   ],
   "source": [
    "India_winrate"
   ]
  },
  {
   "cell_type": "code",
   "execution_count": 40,
   "metadata": {},
   "outputs": [
    {
     "data": {
      "text/plain": [
       "Match Date\n",
       "2018-01-31    0.600000\n",
       "2018-02-28         NaN\n",
       "2018-03-31         NaN\n",
       "2018-04-30         NaN\n",
       "2018-05-31         NaN\n",
       "2018-06-30         NaN\n",
       "2018-07-31    0.666667\n",
       "2018-08-31         NaN\n",
       "2018-09-30    0.500000\n",
       "2018-10-31    1.000000\n",
       "2018-11-30         NaN\n",
       "2018-12-31    0.666667\n",
       "dtype: float64"
      ]
     },
     "execution_count": 40,
     "metadata": {},
     "output_type": "execute_result"
    }
   ],
   "source": [
    "Bangladesh_winrate "
   ]
  },
  {
   "cell_type": "markdown",
   "metadata": {},
   "source": [
    "# Team which had most lost matches"
   ]
  },
  {
   "cell_type": "code",
   "execution_count": 41,
   "metadata": {},
   "outputs": [],
   "source": [
    "teams = (df[\"Team 1\"] + \",\" + df[\"Team 2\"] + \",\" + df[\"Winner\"])"
   ]
  },
  {
   "cell_type": "code",
   "execution_count": 42,
   "metadata": {},
   "outputs": [],
   "source": [
    "def team(teams):\r\n",
    "    teams = teams.split(\",\")\r\n",
    "    if teams[0] == teams[2]:\r\n",
    "        return teams[1]\r\n",
    "    elif teams[1] == teams[2]:\r\n",
    "        return teams[0]\r\n",
    "    else:\r\n",
    "        return np.nan"
   ]
  },
  {
   "cell_type": "code",
   "execution_count": 43,
   "metadata": {},
   "outputs": [],
   "source": [
    "looser = teams.apply(team) "
   ]
  },
  {
   "cell_type": "code",
   "execution_count": 44,
   "metadata": {},
   "outputs": [],
   "source": [
    "df.insert(df.columns.get_loc(\"Winner\") + 1, \"Looser\", looser) "
   ]
  },
  {
   "cell_type": "code",
   "execution_count": 45,
   "metadata": {},
   "outputs": [
    {
     "data": {
      "text/plain": [
       "'Zimbabwe'"
      ]
     },
     "execution_count": 45,
     "metadata": {},
     "output_type": "execute_result"
    }
   ],
   "source": [
    "df.groupby(\"Looser\")[\"Looser\"].count().idxmax() "
   ]
  },
  {
   "cell_type": "markdown",
   "metadata": {},
   "source": [
    "## Did this team lose most matches by runs or wickets? "
   ]
  },
  {
   "cell_type": "code",
   "execution_count": 46,
   "metadata": {},
   "outputs": [
    {
     "data": {
      "text/html": [
       "<div>\n",
       "<style scoped>\n",
       "    .dataframe tbody tr th:only-of-type {\n",
       "        vertical-align: middle;\n",
       "    }\n",
       "\n",
       "    .dataframe tbody tr th {\n",
       "        vertical-align: top;\n",
       "    }\n",
       "\n",
       "    .dataframe thead th {\n",
       "        text-align: right;\n",
       "    }\n",
       "</style>\n",
       "<table border=\"1\" class=\"dataframe\">\n",
       "  <thead>\n",
       "    <tr style=\"text-align: right;\">\n",
       "      <th></th>\n",
       "      <th>Team 1</th>\n",
       "      <th>Team 2</th>\n",
       "      <th>Winner</th>\n",
       "      <th>Looser</th>\n",
       "      <th>Margin</th>\n",
       "      <th>Win by Runs</th>\n",
       "      <th>Win by Wickets</th>\n",
       "      <th>Ground</th>\n",
       "      <th>Match Date</th>\n",
       "      <th>Scorecard</th>\n",
       "    </tr>\n",
       "  </thead>\n",
       "  <tbody>\n",
       "    <tr>\n",
       "      <th>0</th>\n",
       "      <td>New Zealand</td>\n",
       "      <td>Pakistan</td>\n",
       "      <td>New Zealand</td>\n",
       "      <td>Pakistan</td>\n",
       "      <td>61 runs</td>\n",
       "      <td>61 runs</td>\n",
       "      <td>NaN</td>\n",
       "      <td>Wellington</td>\n",
       "      <td>2018-01-06</td>\n",
       "      <td>ODI # 3946</td>\n",
       "    </tr>\n",
       "    <tr>\n",
       "      <th>1</th>\n",
       "      <td>New Zealand</td>\n",
       "      <td>Pakistan</td>\n",
       "      <td>New Zealand</td>\n",
       "      <td>Pakistan</td>\n",
       "      <td>8 wickets</td>\n",
       "      <td>NaN</td>\n",
       "      <td>8 wickets</td>\n",
       "      <td>Nelson</td>\n",
       "      <td>2018-01-09</td>\n",
       "      <td>ODI # 3947</td>\n",
       "    </tr>\n",
       "    <tr>\n",
       "      <th>2</th>\n",
       "      <td>U.A.E.</td>\n",
       "      <td>Ireland</td>\n",
       "      <td>Ireland</td>\n",
       "      <td>U.A.E.</td>\n",
       "      <td>4 wickets</td>\n",
       "      <td>NaN</td>\n",
       "      <td>4 wickets</td>\n",
       "      <td>ICCA Dubai</td>\n",
       "      <td>2018-01-11</td>\n",
       "      <td>ODI # 3948</td>\n",
       "    </tr>\n",
       "    <tr>\n",
       "      <th>3</th>\n",
       "      <td>New Zealand</td>\n",
       "      <td>Pakistan</td>\n",
       "      <td>New Zealand</td>\n",
       "      <td>Pakistan</td>\n",
       "      <td>183 runs</td>\n",
       "      <td>183 runs</td>\n",
       "      <td>NaN</td>\n",
       "      <td>Dunedin</td>\n",
       "      <td>2018-01-13</td>\n",
       "      <td>ODI # 3949</td>\n",
       "    </tr>\n",
       "    <tr>\n",
       "      <th>4</th>\n",
       "      <td>U.A.E.</td>\n",
       "      <td>Ireland</td>\n",
       "      <td>Ireland</td>\n",
       "      <td>U.A.E.</td>\n",
       "      <td>67 runs</td>\n",
       "      <td>67 runs</td>\n",
       "      <td>NaN</td>\n",
       "      <td>ICCA Dubai</td>\n",
       "      <td>2018-01-13</td>\n",
       "      <td>ODI # 3950</td>\n",
       "    </tr>\n",
       "    <tr>\n",
       "      <th>...</th>\n",
       "      <td>...</td>\n",
       "      <td>...</td>\n",
       "      <td>...</td>\n",
       "      <td>...</td>\n",
       "      <td>...</td>\n",
       "      <td>...</td>\n",
       "      <td>...</td>\n",
       "      <td>...</td>\n",
       "      <td>...</td>\n",
       "      <td>...</td>\n",
       "    </tr>\n",
       "    <tr>\n",
       "      <th>123</th>\n",
       "      <td>Australia</td>\n",
       "      <td>South Africa</td>\n",
       "      <td>South Africa</td>\n",
       "      <td>Australia</td>\n",
       "      <td>40 runs</td>\n",
       "      <td>40 runs</td>\n",
       "      <td>NaN</td>\n",
       "      <td>Hobart</td>\n",
       "      <td>2018-11-11</td>\n",
       "      <td>ODI # 4069</td>\n",
       "    </tr>\n",
       "    <tr>\n",
       "      <th>124</th>\n",
       "      <td>New Zealand</td>\n",
       "      <td>Pakistan</td>\n",
       "      <td>no result</td>\n",
       "      <td>NaN</td>\n",
       "      <td>NaN</td>\n",
       "      <td>NaN</td>\n",
       "      <td>NaN</td>\n",
       "      <td>Dubai (DSC)</td>\n",
       "      <td>2018-11-11</td>\n",
       "      <td>ODI # 4070</td>\n",
       "    </tr>\n",
       "    <tr>\n",
       "      <th>125</th>\n",
       "      <td>Bangladesh</td>\n",
       "      <td>West Indies</td>\n",
       "      <td>Bangladesh</td>\n",
       "      <td>West Indies</td>\n",
       "      <td>5 wickets</td>\n",
       "      <td>NaN</td>\n",
       "      <td>5 wickets</td>\n",
       "      <td>Dhaka</td>\n",
       "      <td>2018-12-09</td>\n",
       "      <td>ODI # 4071</td>\n",
       "    </tr>\n",
       "    <tr>\n",
       "      <th>126</th>\n",
       "      <td>Bangladesh</td>\n",
       "      <td>West Indies</td>\n",
       "      <td>West Indies</td>\n",
       "      <td>Bangladesh</td>\n",
       "      <td>4 wickets</td>\n",
       "      <td>NaN</td>\n",
       "      <td>4 wickets</td>\n",
       "      <td>Dhaka</td>\n",
       "      <td>2018-12-11</td>\n",
       "      <td>ODI # 4072</td>\n",
       "    </tr>\n",
       "    <tr>\n",
       "      <th>127</th>\n",
       "      <td>Bangladesh</td>\n",
       "      <td>West Indies</td>\n",
       "      <td>Bangladesh</td>\n",
       "      <td>West Indies</td>\n",
       "      <td>8 wickets</td>\n",
       "      <td>NaN</td>\n",
       "      <td>8 wickets</td>\n",
       "      <td>Sylhet</td>\n",
       "      <td>2018-12-14</td>\n",
       "      <td>ODI # 4073</td>\n",
       "    </tr>\n",
       "  </tbody>\n",
       "</table>\n",
       "<p>128 rows × 10 columns</p>\n",
       "</div>"
      ],
      "text/plain": [
       "          Team 1        Team 2        Winner       Looser     Margin  \\\n",
       "0    New Zealand      Pakistan   New Zealand     Pakistan    61 runs   \n",
       "1    New Zealand      Pakistan   New Zealand     Pakistan  8 wickets   \n",
       "2         U.A.E.       Ireland       Ireland       U.A.E.  4 wickets   \n",
       "3    New Zealand      Pakistan   New Zealand     Pakistan   183 runs   \n",
       "4         U.A.E.       Ireland       Ireland       U.A.E.    67 runs   \n",
       "..           ...           ...           ...          ...        ...   \n",
       "123    Australia  South Africa  South Africa    Australia    40 runs   \n",
       "124  New Zealand      Pakistan     no result          NaN        NaN   \n",
       "125   Bangladesh   West Indies    Bangladesh  West Indies  5 wickets   \n",
       "126   Bangladesh   West Indies   West Indies   Bangladesh  4 wickets   \n",
       "127   Bangladesh   West Indies    Bangladesh  West Indies  8 wickets   \n",
       "\n",
       "    Win by Runs Win by Wickets       Ground Match Date   Scorecard  \n",
       "0       61 runs            NaN   Wellington 2018-01-06  ODI # 3946  \n",
       "1           NaN      8 wickets       Nelson 2018-01-09  ODI # 3947  \n",
       "2           NaN      4 wickets   ICCA Dubai 2018-01-11  ODI # 3948  \n",
       "3      183 runs            NaN      Dunedin 2018-01-13  ODI # 3949  \n",
       "4       67 runs            NaN   ICCA Dubai 2018-01-13  ODI # 3950  \n",
       "..          ...            ...          ...        ...         ...  \n",
       "123     40 runs            NaN       Hobart 2018-11-11  ODI # 4069  \n",
       "124         NaN            NaN  Dubai (DSC) 2018-11-11  ODI # 4070  \n",
       "125         NaN      5 wickets        Dhaka 2018-12-09  ODI # 4071  \n",
       "126         NaN      4 wickets        Dhaka 2018-12-11  ODI # 4072  \n",
       "127         NaN      8 wickets       Sylhet 2018-12-14  ODI # 4073  \n",
       "\n",
       "[128 rows x 10 columns]"
      ]
     },
     "execution_count": 46,
     "metadata": {},
     "output_type": "execute_result"
    }
   ],
   "source": [
    "df "
   ]
  },
  {
   "cell_type": "code",
   "execution_count": 47,
   "metadata": {},
   "outputs": [],
   "source": [
    "def loses(lose):\r\n",
    "    try:\r\n",
    "        if \"runs\" in lose:\r\n",
    "            return \"Runs\"\r\n",
    "        elif \"wickets\" in lose:\r\n",
    "            return \"Wickets\"\r\n",
    "    except TypeError:\r\n",
    "        return np.nan"
   ]
  },
  {
   "cell_type": "code",
   "execution_count": 48,
   "metadata": {},
   "outputs": [],
   "source": [
    "lostby = df[\"Margin\"].apply(loses) "
   ]
  },
  {
   "cell_type": "code",
   "execution_count": 49,
   "metadata": {},
   "outputs": [],
   "source": [
    "df.insert(df.columns.get_loc(\"Looser\") + 1, \"Lost By\", lostby)"
   ]
  },
  {
   "cell_type": "code",
   "execution_count": 50,
   "metadata": {},
   "outputs": [],
   "source": [
    "filt = (df[\"Looser\"] == \"Zimbabwe\")"
   ]
  },
  {
   "cell_type": "code",
   "execution_count": 51,
   "metadata": {},
   "outputs": [
    {
     "data": {
      "text/plain": [
       "'Wickets'"
      ]
     },
     "execution_count": 51,
     "metadata": {},
     "output_type": "execute_result"
    }
   ],
   "source": [
    "df.loc[filt][\"Lost By\"].value_counts().idxmax() "
   ]
  },
  {
   "cell_type": "code",
   "execution_count": null,
   "metadata": {},
   "outputs": [],
   "source": []
  }
 ],
 "metadata": {
  "interpreter": {
   "hash": "068c34081491f8a5b63086ff6ca105d2af7f06bfe299a0df8e185acf846bdb17"
  },
  "kernelspec": {
   "display_name": "Python 3.8.8 64-bit ('base': conda)",
   "name": "python3"
  },
  "language_info": {
   "codemirror_mode": {
    "name": "ipython",
    "version": 3
   },
   "file_extension": ".py",
   "mimetype": "text/x-python",
   "name": "python",
   "nbconvert_exporter": "python",
   "pygments_lexer": "ipython3",
   "version": "3.8.8"
  },
  "orig_nbformat": 4
 },
 "nbformat": 4,
 "nbformat_minor": 2
}