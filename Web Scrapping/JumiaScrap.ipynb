{
 "cells": [
  {
   "cell_type": "code",
   "execution_count": 1,
   "metadata": {},
   "outputs": [],
   "source": [
    "import pandas as pd \r\n",
    "import numpy as np \r\n",
    "import requests as rqs \r\n",
    "from bs4 import BeautifulSoup as BS "
   ]
  },
  {
   "cell_type": "code",
   "execution_count": 2,
   "metadata": {},
   "outputs": [],
   "source": [
    "categories = []\r\n",
    "names = []\r\n",
    "prices = []\r\n",
    "plinks = []"
   ]
  },
  {
   "cell_type": "code",
   "execution_count": 3,
   "metadata": {},
   "outputs": [],
   "source": [
    "source = rqs.get(\"https://www.jumia.co.ke/\").text \r\n",
    "soup = BS(source, \"lxml\") "
   ]
  },
  {
   "cell_type": "code",
   "execution_count": 4,
   "metadata": {},
   "outputs": [],
   "source": [
    "main = soup.find(\"main\", class_=\"has-b2top\")\r\n",
    "holder = main.find(\"div\", class_=\"flyout\")\r\n",
    "links = holder.find_all(\"a\", class_=\"itm\") "
   ]
  },
  {
   "cell_type": "code",
   "execution_count": 5,
   "metadata": {},
   "outputs": [],
   "source": [
    "for link in links:\r\n",
    "    try:\r\n",
    "        categories.append(link[\"href\"])\r\n",
    "    except KeyError:\r\n",
    "        pass"
   ]
  },
  {
   "cell_type": "code",
   "execution_count": 6,
   "metadata": {},
   "outputs": [
    {
     "data": {
      "text/plain": [
       "'https://www.jumia.co.ke/groceries/'"
      ]
     },
     "execution_count": 6,
     "metadata": {},
     "output_type": "execute_result"
    }
   ],
   "source": [
    "categories.pop(0)"
   ]
  },
  {
   "cell_type": "code",
   "execution_count": 7,
   "metadata": {},
   "outputs": [],
   "source": [
    "for category in categories:\r\n",
    "    for x in range(1, 51):\r\n",
    "        link = f\"https://www.jumia.co.ke/{category}/?page={x}\"\r\n",
    "        source = rqs.get(link).text\r\n",
    "        soup = BS(source, \"lxml\")\r\n",
    "        for article in soup.find_all(\"article\", class_=\"prd _fb col c-prd\"):\r\n",
    "            trail = article.find(\"a\", class_=\"core\")[\"href\"] \r\n",
    "            link = f\"https://www.jumia.co.ke/{category}{trail}\"  \r\n",
    "            name = article.find(\"div\", class_=\"info\").find(\"h3\", class_=\"name\").text\r\n",
    "            price = article.find(\"div\", class_=\"info\").find(\"div\", class_=\"prc\").text\r\n",
    "            names.append(name)\r\n",
    "            prices.append(price)\r\n",
    "            plinks.append(link) "
   ]
  },
  {
   "cell_type": "code",
   "execution_count": 8,
   "metadata": {},
   "outputs": [],
   "source": [
    "names = pd.Series(names)\r\n",
    "prices = pd.Series(prices) \r\n",
    "plinks = pd.Series(plinks)"
   ]
  },
  {
   "cell_type": "code",
   "execution_count": 9,
   "metadata": {},
   "outputs": [],
   "source": [
    "df = pd.DataFrame() "
   ]
  },
  {
   "cell_type": "code",
   "execution_count": 10,
   "metadata": {},
   "outputs": [],
   "source": [
    "df.insert(0, \"Name\", names) \r\n",
    "df.insert(1, \"Price\", prices) \r\n",
    "df.insert(2, \"Link\", plinks) "
   ]
  },
  {
   "cell_type": "code",
   "execution_count": 11,
   "metadata": {},
   "outputs": [
    {
     "data": {
      "text/html": [
       "<div>\n",
       "<style scoped>\n",
       "    .dataframe tbody tr th:only-of-type {\n",
       "        vertical-align: middle;\n",
       "    }\n",
       "\n",
       "    .dataframe tbody tr th {\n",
       "        vertical-align: top;\n",
       "    }\n",
       "\n",
       "    .dataframe thead th {\n",
       "        text-align: right;\n",
       "    }\n",
       "</style>\n",
       "<table border=\"1\" class=\"dataframe\">\n",
       "  <thead>\n",
       "    <tr style=\"text-align: right;\">\n",
       "      <th></th>\n",
       "      <th>Name</th>\n",
       "      <th>Price</th>\n",
       "      <th>Link</th>\n",
       "    </tr>\n",
       "  </thead>\n",
       "  <tbody>\n",
       "    <tr>\n",
       "      <th>0</th>\n",
       "      <td>Kiss Beauty Bb Bb Even Skin Tone Beautifying F...</td>\n",
       "      <td>KSh 675</td>\n",
       "      <td>https://www.jumia.co.ke//health-beauty//kiss-b...</td>\n",
       "    </tr>\n",
       "    <tr>\n",
       "      <th>1</th>\n",
       "      <td>Carrot Glow Toning Lightening Serum</td>\n",
       "      <td>KSh 405</td>\n",
       "      <td>https://www.jumia.co.ke//health-beauty//carrot...</td>\n",
       "    </tr>\n",
       "    <tr>\n",
       "      <th>2</th>\n",
       "      <td>Lifesum Methylated Spirit 70% Vv 5 Litres</td>\n",
       "      <td>KSh 1,221</td>\n",
       "      <td>https://www.jumia.co.ke//health-beauty//lifesu...</td>\n",
       "    </tr>\n",
       "    <tr>\n",
       "      <th>3</th>\n",
       "      <td>Garnier Pure Active 3 In1 Charcoal Anti Blackh...</td>\n",
       "      <td>KSh 699</td>\n",
       "      <td>https://www.jumia.co.ke//health-beauty//garnie...</td>\n",
       "    </tr>\n",
       "    <tr>\n",
       "      <th>4</th>\n",
       "      <td>Dr. Rashel Vitamin C Brightening &amp; Anti-Aging ...</td>\n",
       "      <td>KSh 322</td>\n",
       "      <td>https://www.jumia.co.ke//health-beauty//dr.-ra...</td>\n",
       "    </tr>\n",
       "    <tr>\n",
       "      <th>...</th>\n",
       "      <td>...</td>\n",
       "      <td>...</td>\n",
       "      <td>...</td>\n",
       "    </tr>\n",
       "    <tr>\n",
       "      <th>19995</th>\n",
       "      <td>Bosch GSA 18 V-LI Cordless Sabre Saw</td>\n",
       "      <td>KSh 34,210</td>\n",
       "      <td>https://www.jumia.co.ke//patio-lawn-garden//bo...</td>\n",
       "    </tr>\n",
       "    <tr>\n",
       "      <th>19996</th>\n",
       "      <td>Bosch Palm Router GKF 600 - Blue &amp; black</td>\n",
       "      <td>KSh 28,420</td>\n",
       "      <td>https://www.jumia.co.ke//patio-lawn-garden//bo...</td>\n",
       "    </tr>\n",
       "    <tr>\n",
       "      <th>19997</th>\n",
       "      <td>Generic 8-32mm Steel Silver Metric Spanner Wre...</td>\n",
       "      <td>KSh 1,759</td>\n",
       "      <td>https://www.jumia.co.ke//patio-lawn-garden//ge...</td>\n",
       "    </tr>\n",
       "    <tr>\n",
       "      <th>19998</th>\n",
       "      <td>AICO Heavy Duty Vacuum Cleaner Wet &amp; Dry 50L -...</td>\n",
       "      <td>KSh 24,000</td>\n",
       "      <td>https://www.jumia.co.ke//patio-lawn-garden//he...</td>\n",
       "    </tr>\n",
       "    <tr>\n",
       "      <th>19999</th>\n",
       "      <td>Generic 500L/H Solar Panel Powered Water Featu...</td>\n",
       "      <td>KSh 12,769</td>\n",
       "      <td>https://www.jumia.co.ke//patio-lawn-garden//ge...</td>\n",
       "    </tr>\n",
       "  </tbody>\n",
       "</table>\n",
       "<p>20000 rows × 3 columns</p>\n",
       "</div>"
      ],
      "text/plain": [
       "                                                    Name       Price  \\\n",
       "0      Kiss Beauty Bb Bb Even Skin Tone Beautifying F...     KSh 675   \n",
       "1                    Carrot Glow Toning Lightening Serum     KSh 405   \n",
       "2              Lifesum Methylated Spirit 70% Vv 5 Litres   KSh 1,221   \n",
       "3      Garnier Pure Active 3 In1 Charcoal Anti Blackh...     KSh 699   \n",
       "4      Dr. Rashel Vitamin C Brightening & Anti-Aging ...     KSh 322   \n",
       "...                                                  ...         ...   \n",
       "19995               Bosch GSA 18 V-LI Cordless Sabre Saw  KSh 34,210   \n",
       "19996           Bosch Palm Router GKF 600 - Blue & black  KSh 28,420   \n",
       "19997  Generic 8-32mm Steel Silver Metric Spanner Wre...   KSh 1,759   \n",
       "19998  AICO Heavy Duty Vacuum Cleaner Wet & Dry 50L -...  KSh 24,000   \n",
       "19999  Generic 500L/H Solar Panel Powered Water Featu...  KSh 12,769   \n",
       "\n",
       "                                                    Link  \n",
       "0      https://www.jumia.co.ke//health-beauty//kiss-b...  \n",
       "1      https://www.jumia.co.ke//health-beauty//carrot...  \n",
       "2      https://www.jumia.co.ke//health-beauty//lifesu...  \n",
       "3      https://www.jumia.co.ke//health-beauty//garnie...  \n",
       "4      https://www.jumia.co.ke//health-beauty//dr.-ra...  \n",
       "...                                                  ...  \n",
       "19995  https://www.jumia.co.ke//patio-lawn-garden//bo...  \n",
       "19996  https://www.jumia.co.ke//patio-lawn-garden//bo...  \n",
       "19997  https://www.jumia.co.ke//patio-lawn-garden//ge...  \n",
       "19998  https://www.jumia.co.ke//patio-lawn-garden//he...  \n",
       "19999  https://www.jumia.co.ke//patio-lawn-garden//ge...  \n",
       "\n",
       "[20000 rows x 3 columns]"
      ]
     },
     "execution_count": 11,
     "metadata": {},
     "output_type": "execute_result"
    }
   ],
   "source": [
    "df"
   ]
  },
  {
   "cell_type": "code",
   "execution_count": 12,
   "metadata": {},
   "outputs": [
    {
     "name": "stdout",
     "output_type": "stream",
     "text": [
      "<class 'pandas.core.frame.DataFrame'>\n",
      "RangeIndex: 20000 entries, 0 to 19999\n",
      "Data columns (total 3 columns):\n",
      " #   Column  Non-Null Count  Dtype \n",
      "---  ------  --------------  ----- \n",
      " 0   Name    20000 non-null  object\n",
      " 1   Price   20000 non-null  object\n",
      " 2   Link    20000 non-null  object\n",
      "dtypes: object(3)\n",
      "memory usage: 468.9+ KB\n"
     ]
    }
   ],
   "source": [
    "df.info()"
   ]
  },
  {
   "cell_type": "code",
   "execution_count": 13,
   "metadata": {},
   "outputs": [],
   "source": [
    "def replacer(price):\r\n",
    "    price = price.replace(\"KSh\", \"\")\r\n",
    "    price = price.replace(\",\", \"\")\r\n",
    "    return price"
   ]
  },
  {
   "cell_type": "code",
   "execution_count": 14,
   "metadata": {},
   "outputs": [],
   "source": [
    "df[\"Price\"] = df[\"Price\"].apply(replacer) "
   ]
  },
  {
   "cell_type": "code",
   "execution_count": 15,
   "metadata": {},
   "outputs": [],
   "source": [
    "def check(price):\r\n",
    "    if \"-\" in price:\r\n",
    "        price = price.replace(\"-\", \"\").split(\" \")[1]\r\n",
    "    return price"
   ]
  },
  {
   "cell_type": "code",
   "execution_count": 16,
   "metadata": {},
   "outputs": [],
   "source": [
    "df[\"Price\"] = df[\"Price\"].apply(check) "
   ]
  },
  {
   "cell_type": "code",
   "execution_count": 17,
   "metadata": {},
   "outputs": [],
   "source": [
    "df[\"Price\"] = pd.to_numeric(df[\"Price\"]) "
   ]
  },
  {
   "cell_type": "code",
   "execution_count": 18,
   "metadata": {},
   "outputs": [
    {
     "name": "stdout",
     "output_type": "stream",
     "text": [
      "<class 'pandas.core.frame.DataFrame'>\n",
      "RangeIndex: 20000 entries, 0 to 19999\n",
      "Data columns (total 3 columns):\n",
      " #   Column  Non-Null Count  Dtype \n",
      "---  ------  --------------  ----- \n",
      " 0   Name    20000 non-null  object\n",
      " 1   Price   20000 non-null  int64 \n",
      " 2   Link    20000 non-null  object\n",
      "dtypes: int64(1), object(2)\n",
      "memory usage: 468.9+ KB\n"
     ]
    }
   ],
   "source": [
    "df.info() "
   ]
  },
  {
   "cell_type": "code",
   "execution_count": 19,
   "metadata": {},
   "outputs": [],
   "source": [
    "df = df.sort_values([\"Price\"], ascending=False).reset_index(drop=True) "
   ]
  },
  {
   "cell_type": "code",
   "execution_count": 20,
   "metadata": {},
   "outputs": [
    {
     "data": {
      "text/html": [
       "<div>\n",
       "<style scoped>\n",
       "    .dataframe tbody tr th:only-of-type {\n",
       "        vertical-align: middle;\n",
       "    }\n",
       "\n",
       "    .dataframe tbody tr th {\n",
       "        vertical-align: top;\n",
       "    }\n",
       "\n",
       "    .dataframe thead th {\n",
       "        text-align: right;\n",
       "    }\n",
       "</style>\n",
       "<table border=\"1\" class=\"dataframe\">\n",
       "  <thead>\n",
       "    <tr style=\"text-align: right;\">\n",
       "      <th></th>\n",
       "      <th>Name</th>\n",
       "      <th>Price</th>\n",
       "      <th>Link</th>\n",
       "    </tr>\n",
       "  </thead>\n",
       "  <tbody>\n",
       "    <tr>\n",
       "      <th>0</th>\n",
       "      <td>Sony KD - 65A9G 65 Inch TV -  MASTER Series - ...</td>\n",
       "      <td>780000</td>\n",
       "      <td>https://www.jumia.co.ke//electronics//sony-kd-...</td>\n",
       "    </tr>\n",
       "    <tr>\n",
       "      <th>1</th>\n",
       "      <td>Generic Tumo Int 5000W 3 Blades Wind Turbine G...</td>\n",
       "      <td>599880</td>\n",
       "      <td>https://www.jumia.co.ke//patio-lawn-garden//ge...</td>\n",
       "    </tr>\n",
       "    <tr>\n",
       "      <th>2</th>\n",
       "      <td>DELL XPS 13 7390 CORE I7 10510U 16GB 512SSD WI...</td>\n",
       "      <td>244230</td>\n",
       "      <td>https://www.jumia.co.ke//computing//dell-xps-1...</td>\n",
       "    </tr>\n",
       "    <tr>\n",
       "      <th>3</th>\n",
       "      <td>Bosch Magnetic Drill Stand GMB 32 Professional</td>\n",
       "      <td>236250</td>\n",
       "      <td>https://www.jumia.co.ke//patio-lawn-garden//bo...</td>\n",
       "    </tr>\n",
       "    <tr>\n",
       "      <th>4</th>\n",
       "      <td>Generic SnoMaster 92.5L Dual Compartment Stain...</td>\n",
       "      <td>215710</td>\n",
       "      <td>https://www.jumia.co.ke//sporting-goods//gener...</td>\n",
       "    </tr>\n",
       "    <tr>\n",
       "      <th>5</th>\n",
       "      <td>Sony COMPUTER ENTERTAINMENT PS5 CONSOLE,825GB,...</td>\n",
       "      <td>190000</td>\n",
       "      <td>https://www.jumia.co.ke//video-games//sony-com...</td>\n",
       "    </tr>\n",
       "    <tr>\n",
       "      <th>6</th>\n",
       "      <td>Sony COMPUTER ENTERTAINMENT PS5 CONSOLE,825GB,...</td>\n",
       "      <td>190000</td>\n",
       "      <td>https://www.jumia.co.ke//video-games//sony-com...</td>\n",
       "    </tr>\n",
       "    <tr>\n",
       "      <th>7</th>\n",
       "      <td>Apple 12.9\" IPad Pro (Early 2020, 128GB, Wi-Fi...</td>\n",
       "      <td>185000</td>\n",
       "      <td>https://www.jumia.co.ke//phones-tablets//apple...</td>\n",
       "    </tr>\n",
       "    <tr>\n",
       "      <th>8</th>\n",
       "      <td>Solar Africa Factory Sale Off Grid Solar Power...</td>\n",
       "      <td>180999</td>\n",
       "      <td>https://www.jumia.co.ke//patio-lawn-garden//fa...</td>\n",
       "    </tr>\n",
       "    <tr>\n",
       "      <th>9</th>\n",
       "      <td>Generic Husqvarna Power Saw</td>\n",
       "      <td>180000</td>\n",
       "      <td>https://www.jumia.co.ke//patio-lawn-garden//hu...</td>\n",
       "    </tr>\n",
       "  </tbody>\n",
       "</table>\n",
       "</div>"
      ],
      "text/plain": [
       "                                                Name   Price  \\\n",
       "0  Sony KD - 65A9G 65 Inch TV -  MASTER Series - ...  780000   \n",
       "1  Generic Tumo Int 5000W 3 Blades Wind Turbine G...  599880   \n",
       "2  DELL XPS 13 7390 CORE I7 10510U 16GB 512SSD WI...  244230   \n",
       "3     Bosch Magnetic Drill Stand GMB 32 Professional  236250   \n",
       "4  Generic SnoMaster 92.5L Dual Compartment Stain...  215710   \n",
       "5  Sony COMPUTER ENTERTAINMENT PS5 CONSOLE,825GB,...  190000   \n",
       "6  Sony COMPUTER ENTERTAINMENT PS5 CONSOLE,825GB,...  190000   \n",
       "7  Apple 12.9\" IPad Pro (Early 2020, 128GB, Wi-Fi...  185000   \n",
       "8  Solar Africa Factory Sale Off Grid Solar Power...  180999   \n",
       "9                        Generic Husqvarna Power Saw  180000   \n",
       "\n",
       "                                                Link  \n",
       "0  https://www.jumia.co.ke//electronics//sony-kd-...  \n",
       "1  https://www.jumia.co.ke//patio-lawn-garden//ge...  \n",
       "2  https://www.jumia.co.ke//computing//dell-xps-1...  \n",
       "3  https://www.jumia.co.ke//patio-lawn-garden//bo...  \n",
       "4  https://www.jumia.co.ke//sporting-goods//gener...  \n",
       "5  https://www.jumia.co.ke//video-games//sony-com...  \n",
       "6  https://www.jumia.co.ke//video-games//sony-com...  \n",
       "7  https://www.jumia.co.ke//phones-tablets//apple...  \n",
       "8  https://www.jumia.co.ke//patio-lawn-garden//fa...  \n",
       "9  https://www.jumia.co.ke//patio-lawn-garden//hu...  "
      ]
     },
     "execution_count": 20,
     "metadata": {},
     "output_type": "execute_result"
    }
   ],
   "source": [
    "df.head(10) "
   ]
  },
  {
   "cell_type": "code",
   "execution_count": null,
   "metadata": {},
   "outputs": [],
   "source": []
  }
 ],
 "metadata": {
  "interpreter": {
   "hash": "29274b1c571be921c997d601b2ceb7baf3c4890dd6319664a3098101f494cd84"
  },
  "kernelspec": {
   "display_name": "Python 3.9.5 64-bit",
   "name": "python3"
  },
  "language_info": {
   "codemirror_mode": {
    "name": "ipython",
    "version": 3
   },
   "file_extension": ".py",
   "mimetype": "text/x-python",
   "name": "python",
   "nbconvert_exporter": "python",
   "pygments_lexer": "ipython3",
   "version": "3.8.8"
  },
  "orig_nbformat": 4
 },
 "nbformat": 4,
 "nbformat_minor": 2
}