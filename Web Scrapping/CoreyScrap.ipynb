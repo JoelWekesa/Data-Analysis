{
 "cells": [
  {
   "cell_type": "code",
   "execution_count": 1,
   "metadata": {},
   "outputs": [],
   "source": [
    "import pandas as pd\r\n",
    "import numpy as np\r\n",
    "import os\r\n",
    "import requests as rqs\r\n",
    "import seaborn as sns\r\n",
    "from bs4 import BeautifulSoup as BS \r\n"
   ]
  },
  {
   "cell_type": "code",
   "execution_count": 2,
   "metadata": {},
   "outputs": [],
   "source": [
    "title = []\r\n",
    "summary = []"
   ]
  },
  {
   "cell_type": "code",
   "execution_count": 3,
   "metadata": {},
   "outputs": [],
   "source": [
    "for x in range(17):\r\n",
    "    source = rqs.get(f\"https://coreyms.com/page/{x}\").text\r\n",
    "    soup = BS(source, \"lxml\")\r\n",
    "    for article in soup.find_all(\"article\"):\r\n",
    "        title.append(article.find(\"h2\", class_=\"entry-title\").text)\r\n",
    "        summary.append(article.find(\"div\", class_=\"entry-content\").find(\"p\").text) "
   ]
  },
  {
   "cell_type": "code",
   "execution_count": 4,
   "metadata": {},
   "outputs": [],
   "source": [
    "title = pd.Series(title)\r\n",
    "summary = pd.Series(summary) "
   ]
  },
  {
   "cell_type": "code",
   "execution_count": 5,
   "metadata": {},
   "outputs": [],
   "source": [
    "df = pd.concat([title, summary], axis=1)"
   ]
  },
  {
   "cell_type": "code",
   "execution_count": 6,
   "metadata": {},
   "outputs": [],
   "source": [
    "df = df.rename(columns={0:\"Title\", 1:\"Summary\"}) "
   ]
  },
  {
   "cell_type": "code",
   "execution_count": 7,
   "metadata": {},
   "outputs": [
    {
     "data": {
      "text/html": [
       "<div>\n",
       "<style scoped>\n",
       "    .dataframe tbody tr th:only-of-type {\n",
       "        vertical-align: middle;\n",
       "    }\n",
       "\n",
       "    .dataframe tbody tr th {\n",
       "        vertical-align: top;\n",
       "    }\n",
       "\n",
       "    .dataframe thead th {\n",
       "        text-align: right;\n",
       "    }\n",
       "</style>\n",
       "<table border=\"1\" class=\"dataframe\">\n",
       "  <thead>\n",
       "    <tr style=\"text-align: right;\">\n",
       "      <th></th>\n",
       "      <th>Title</th>\n",
       "      <th>Summary</th>\n",
       "    </tr>\n",
       "  </thead>\n",
       "  <tbody>\n",
       "    <tr>\n",
       "      <th>0</th>\n",
       "      <td>Python Tutorial: Zip Files – Creating and Extr...</td>\n",
       "      <td>In this video, we will be learning how to crea...</td>\n",
       "    </tr>\n",
       "    <tr>\n",
       "      <th>1</th>\n",
       "      <td>Python Data Science Tutorial: Analyzing the 20...</td>\n",
       "      <td>In this Python Programming video, we will be l...</td>\n",
       "    </tr>\n",
       "    <tr>\n",
       "      <th>2</th>\n",
       "      <td>Python Multiprocessing Tutorial: Run Code in P...</td>\n",
       "      <td>In this Python Programming video, we will be l...</td>\n",
       "    </tr>\n",
       "    <tr>\n",
       "      <th>3</th>\n",
       "      <td>Python Threading Tutorial: Run Code Concurrent...</td>\n",
       "      <td>In this Python Programming video, we will be l...</td>\n",
       "    </tr>\n",
       "    <tr>\n",
       "      <th>4</th>\n",
       "      <td>Update (2019-09-03)</td>\n",
       "      <td>Hey everyone. I wanted to give you an update o...</td>\n",
       "    </tr>\n",
       "    <tr>\n",
       "      <th>...</th>\n",
       "      <td>...</td>\n",
       "      <td>...</td>\n",
       "    </tr>\n",
       "    <tr>\n",
       "      <th>165</th>\n",
       "      <td>Prevent Picasa from Scanning Folders</td>\n",
       "      <td>I love using Picasa for viewing and editing my...</td>\n",
       "    </tr>\n",
       "    <tr>\n",
       "      <th>166</th>\n",
       "      <td>How to Build a Paver Patio</td>\n",
       "      <td></td>\n",
       "    </tr>\n",
       "    <tr>\n",
       "      <th>167</th>\n",
       "      <td>Quick Tip: Use a Wooden Pallet as a Lumber Rack</td>\n",
       "      <td>Making a lumber rack for the workshop is a tas...</td>\n",
       "    </tr>\n",
       "    <tr>\n",
       "      <th>168</th>\n",
       "      <td>How to Record Sound From Your Computer’s Speak...</td>\n",
       "      <td>At times, you may want to record sound from yo...</td>\n",
       "    </tr>\n",
       "    <tr>\n",
       "      <th>169</th>\n",
       "      <td>Ems and Rems for Sizing</td>\n",
       "      <td>Ems and Rems both are scalable units in CSS wh...</td>\n",
       "    </tr>\n",
       "  </tbody>\n",
       "</table>\n",
       "<p>170 rows × 2 columns</p>\n",
       "</div>"
      ],
      "text/plain": [
       "                                                 Title  \\\n",
       "0    Python Tutorial: Zip Files – Creating and Extr...   \n",
       "1    Python Data Science Tutorial: Analyzing the 20...   \n",
       "2    Python Multiprocessing Tutorial: Run Code in P...   \n",
       "3    Python Threading Tutorial: Run Code Concurrent...   \n",
       "4                                  Update (2019-09-03)   \n",
       "..                                                 ...   \n",
       "165               Prevent Picasa from Scanning Folders   \n",
       "166                         How to Build a Paver Patio   \n",
       "167    Quick Tip: Use a Wooden Pallet as a Lumber Rack   \n",
       "168  How to Record Sound From Your Computer’s Speak...   \n",
       "169                            Ems and Rems for Sizing   \n",
       "\n",
       "                                               Summary  \n",
       "0    In this video, we will be learning how to crea...  \n",
       "1    In this Python Programming video, we will be l...  \n",
       "2    In this Python Programming video, we will be l...  \n",
       "3    In this Python Programming video, we will be l...  \n",
       "4    Hey everyone. I wanted to give you an update o...  \n",
       "..                                                 ...  \n",
       "165  I love using Picasa for viewing and editing my...  \n",
       "166                                                     \n",
       "167  Making a lumber rack for the workshop is a tas...  \n",
       "168  At times, you may want to record sound from yo...  \n",
       "169  Ems and Rems both are scalable units in CSS wh...  \n",
       "\n",
       "[170 rows x 2 columns]"
      ]
     },
     "execution_count": 7,
     "metadata": {},
     "output_type": "execute_result"
    }
   ],
   "source": [
    "df "
   ]
  },
  {
   "cell_type": "code",
   "execution_count": null,
   "metadata": {},
   "outputs": [],
   "source": []
  }
 ],
 "metadata": {
  "interpreter": {
   "hash": "068c34081491f8a5b63086ff6ca105d2af7f06bfe299a0df8e185acf846bdb17"
  },
  "kernelspec": {
   "display_name": "Python 3.8.8 64-bit ('base': conda)",
   "name": "python3"
  },
  "language_info": {
   "codemirror_mode": {
    "name": "ipython",
    "version": 3
   },
   "file_extension": ".py",
   "mimetype": "text/x-python",
   "name": "python",
   "nbconvert_exporter": "python",
   "pygments_lexer": "ipython3",
   "version": "3.8.8"
  },
  "orig_nbformat": 4
 },
 "nbformat": 4,
 "nbformat_minor": 2
}