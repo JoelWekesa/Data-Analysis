{
 "cells": [
  {
   "cell_type": "code",
   "execution_count": 1,
   "metadata": {},
   "outputs": [],
   "source": [
    "import pandas as pd \r\n",
    "import numpy as np \r\n",
    "import requests as rqs \r\n",
    "from bs4 import BeautifulSoup as BS"
   ]
  },
  {
   "cell_type": "code",
   "execution_count": 2,
   "metadata": {},
   "outputs": [],
   "source": [
    "names = []\r\n",
    "prices = []\r\n",
    "links = []"
   ]
  },
  {
   "cell_type": "code",
   "execution_count": 3,
   "metadata": {},
   "outputs": [],
   "source": [
    "for x in range(1, 51): \r\n",
    "    source = rqs.get(f\"https://www.jumia.co.ke/electronics/?page={x}\").text\r\n",
    "    soup = BS(source, \"lxml\")\r\n",
    "    for article in soup.find_all(\"article\", class_=\"prd _fb col c-prd\"):\r\n",
    "        trail = article.find(\"a\", class_=\"core\")[\"href\"] \r\n",
    "        link = f\"https://www.jumia.co.ke/electronics{trail}\"  \r\n",
    "        name = article.find(\"div\", class_=\"info\").find(\"h3\", class_=\"name\").text\r\n",
    "        price = article.find(\"div\", class_=\"info\").find(\"div\", class_=\"prc\").text\r\n",
    "        names.append(name)\r\n",
    "        prices.append(price)\r\n",
    "        links.append(link)"
   ]
  },
  {
   "cell_type": "code",
   "execution_count": 4,
   "metadata": {},
   "outputs": [],
   "source": [
    "names = pd.Series(names)\r\n",
    "prices = pd.Series(prices)\r\n",
    "links = pd.Series(links) "
   ]
  },
  {
   "cell_type": "code",
   "execution_count": 5,
   "metadata": {},
   "outputs": [],
   "source": [
    "df = pd.DataFrame()"
   ]
  },
  {
   "cell_type": "code",
   "execution_count": 6,
   "metadata": {},
   "outputs": [],
   "source": [
    "df.insert(0, \"Product Name\", names)\r\n",
    "df.insert(1, \"Price\", prices)\r\n",
    "df.insert(2, \"Link\", links)"
   ]
  },
  {
   "cell_type": "code",
   "execution_count": 7,
   "metadata": {},
   "outputs": [
    {
     "data": {
      "text/html": [
       "<div>\n",
       "<style scoped>\n",
       "    .dataframe tbody tr th:only-of-type {\n",
       "        vertical-align: middle;\n",
       "    }\n",
       "\n",
       "    .dataframe tbody tr th {\n",
       "        vertical-align: top;\n",
       "    }\n",
       "\n",
       "    .dataframe thead th {\n",
       "        text-align: right;\n",
       "    }\n",
       "</style>\n",
       "<table border=\"1\" class=\"dataframe\">\n",
       "  <thead>\n",
       "    <tr style=\"text-align: right;\">\n",
       "      <th></th>\n",
       "      <th>Product Name</th>\n",
       "      <th>Price</th>\n",
       "      <th>Link</th>\n",
       "    </tr>\n",
       "  </thead>\n",
       "  <tbody>\n",
       "    <tr>\n",
       "      <th>0</th>\n",
       "      <td>Generic USB 2.0 Printer/Scanner Cable - 1.5m -...</td>\n",
       "      <td>KSh 265</td>\n",
       "      <td>https://www.jumia.co.ke/electronics/generic-us...</td>\n",
       "    </tr>\n",
       "    <tr>\n",
       "      <th>1</th>\n",
       "      <td>Bruhm BTF-65SF - 65\" 4K UHD Netflix, Amazon Pr...</td>\n",
       "      <td>KSh 69,900</td>\n",
       "      <td>https://www.jumia.co.ke/electronics/bruhm-btf-...</td>\n",
       "    </tr>\n",
       "    <tr>\n",
       "      <th>2</th>\n",
       "      <td>Generic 14\"-42\" TV Flat Panel Wall Bracket Hol...</td>\n",
       "      <td>KSh 290</td>\n",
       "      <td>https://www.jumia.co.ke/electronics/generic-14...</td>\n",
       "    </tr>\n",
       "    <tr>\n",
       "      <th>3</th>\n",
       "      <td>Gotv Decoder + 1 Months Gotv Plus Subscription...</td>\n",
       "      <td>KSh 899</td>\n",
       "      <td>https://www.jumia.co.ke/electronics/gotv-decod...</td>\n",
       "    </tr>\n",
       "    <tr>\n",
       "      <th>4</th>\n",
       "      <td>T&amp;G Portable Wireless Bluetooth Speaker-Black</td>\n",
       "      <td>KSh 729</td>\n",
       "      <td>https://www.jumia.co.ke/electronics/portable-w...</td>\n",
       "    </tr>\n",
       "    <tr>\n",
       "      <th>...</th>\n",
       "      <td>...</td>\n",
       "      <td>...</td>\n",
       "      <td>...</td>\n",
       "    </tr>\n",
       "    <tr>\n",
       "      <th>1995</th>\n",
       "      <td>Generic Startime Decorder Remote</td>\n",
       "      <td>KSh 600</td>\n",
       "      <td>https://www.jumia.co.ke/electronics/startime-d...</td>\n",
       "    </tr>\n",
       "    <tr>\n",
       "      <th>1996</th>\n",
       "      <td>TCL 43'' FULL HD ANDROID TV, NETFLIX, YOUTUBE,...</td>\n",
       "      <td>KSh 38,500</td>\n",
       "      <td>https://www.jumia.co.ke/electronics/tcl-43-ful...</td>\n",
       "    </tr>\n",
       "    <tr>\n",
       "      <th>1997</th>\n",
       "      <td>Vitron 2.1Ch Multimedia Speaker System BT/USB/...</td>\n",
       "      <td>KSh 4,299</td>\n",
       "      <td>https://www.jumia.co.ke/electronics/vitron-2.1...</td>\n",
       "    </tr>\n",
       "    <tr>\n",
       "      <th>1998</th>\n",
       "      <td>Sayona Subwoofer AC/DC System-BLUETOOTH/FM/USB...</td>\n",
       "      <td>KSh 9,200</td>\n",
       "      <td>https://www.jumia.co.ke/electronics/sayona-sub...</td>\n",
       "    </tr>\n",
       "    <tr>\n",
       "      <th>1999</th>\n",
       "      <td>Mk Electric TV Guard +Fridge Guard FREE 32 GB ...</td>\n",
       "      <td>KSh 1,490</td>\n",
       "      <td>https://www.jumia.co.ke/electronics/mk-electri...</td>\n",
       "    </tr>\n",
       "  </tbody>\n",
       "</table>\n",
       "<p>2000 rows × 3 columns</p>\n",
       "</div>"
      ],
      "text/plain": [
       "                                           Product Name       Price  \\\n",
       "0     Generic USB 2.0 Printer/Scanner Cable - 1.5m -...     KSh 265   \n",
       "1     Bruhm BTF-65SF - 65\" 4K UHD Netflix, Amazon Pr...  KSh 69,900   \n",
       "2     Generic 14\"-42\" TV Flat Panel Wall Bracket Hol...     KSh 290   \n",
       "3     Gotv Decoder + 1 Months Gotv Plus Subscription...     KSh 899   \n",
       "4         T&G Portable Wireless Bluetooth Speaker-Black     KSh 729   \n",
       "...                                                 ...         ...   \n",
       "1995                   Generic Startime Decorder Remote     KSh 600   \n",
       "1996  TCL 43'' FULL HD ANDROID TV, NETFLIX, YOUTUBE,...  KSh 38,500   \n",
       "1997  Vitron 2.1Ch Multimedia Speaker System BT/USB/...   KSh 4,299   \n",
       "1998  Sayona Subwoofer AC/DC System-BLUETOOTH/FM/USB...   KSh 9,200   \n",
       "1999  Mk Electric TV Guard +Fridge Guard FREE 32 GB ...   KSh 1,490   \n",
       "\n",
       "                                                   Link  \n",
       "0     https://www.jumia.co.ke/electronics/generic-us...  \n",
       "1     https://www.jumia.co.ke/electronics/bruhm-btf-...  \n",
       "2     https://www.jumia.co.ke/electronics/generic-14...  \n",
       "3     https://www.jumia.co.ke/electronics/gotv-decod...  \n",
       "4     https://www.jumia.co.ke/electronics/portable-w...  \n",
       "...                                                 ...  \n",
       "1995  https://www.jumia.co.ke/electronics/startime-d...  \n",
       "1996  https://www.jumia.co.ke/electronics/tcl-43-ful...  \n",
       "1997  https://www.jumia.co.ke/electronics/vitron-2.1...  \n",
       "1998  https://www.jumia.co.ke/electronics/sayona-sub...  \n",
       "1999  https://www.jumia.co.ke/electronics/mk-electri...  \n",
       "\n",
       "[2000 rows x 3 columns]"
      ]
     },
     "execution_count": 7,
     "metadata": {},
     "output_type": "execute_result"
    }
   ],
   "source": [
    "df"
   ]
  },
  {
   "cell_type": "code",
   "execution_count": 8,
   "metadata": {},
   "outputs": [],
   "source": [
    "def tomoney(price):\r\n",
    "    price = price.replace(\"KSh\", \"\")\r\n",
    "    price = price.replace(\",\", \"\")\r\n",
    "    return price "
   ]
  },
  {
   "cell_type": "code",
   "execution_count": 9,
   "metadata": {},
   "outputs": [],
   "source": [
    "df[\"Price\"] = df[\"Price\"].apply(tomoney) "
   ]
  },
  {
   "cell_type": "code",
   "execution_count": 10,
   "metadata": {},
   "outputs": [],
   "source": [
    "def check(price):\r\n",
    "    if \"-\" in price:\r\n",
    "        return price.split(\" \")[1]\r\n",
    "    else:\r\n",
    "        return price"
   ]
  },
  {
   "cell_type": "code",
   "execution_count": 11,
   "metadata": {},
   "outputs": [],
   "source": [
    "df[\"Price\"] = df[\"Price\"].apply(check)"
   ]
  },
  {
   "cell_type": "code",
   "execution_count": 12,
   "metadata": {},
   "outputs": [],
   "source": [
    "df[\"Price\"] = pd.to_numeric(df[\"Price\"]) "
   ]
  },
  {
   "cell_type": "code",
   "execution_count": 13,
   "metadata": {},
   "outputs": [],
   "source": [
    "df = df.sort_values([\"Price\"], ascending = False).reset_index(drop=True)"
   ]
  },
  {
   "cell_type": "code",
   "execution_count": 14,
   "metadata": {},
   "outputs": [
    {
     "data": {
      "text/html": [
       "<div>\n",
       "<style scoped>\n",
       "    .dataframe tbody tr th:only-of-type {\n",
       "        vertical-align: middle;\n",
       "    }\n",
       "\n",
       "    .dataframe tbody tr th {\n",
       "        vertical-align: top;\n",
       "    }\n",
       "\n",
       "    .dataframe thead th {\n",
       "        text-align: right;\n",
       "    }\n",
       "</style>\n",
       "<table border=\"1\" class=\"dataframe\">\n",
       "  <thead>\n",
       "    <tr style=\"text-align: right;\">\n",
       "      <th></th>\n",
       "      <th>Product Name</th>\n",
       "      <th>Price</th>\n",
       "      <th>Link</th>\n",
       "    </tr>\n",
       "  </thead>\n",
       "  <tbody>\n",
       "    <tr>\n",
       "      <th>0</th>\n",
       "      <td>Sony KD - 65A9G 65 Inch TV -  MASTER Series - ...</td>\n",
       "      <td>780000</td>\n",
       "      <td>https://www.jumia.co.ke/electronics/sony-kd-65...</td>\n",
       "    </tr>\n",
       "    <tr>\n",
       "      <th>1</th>\n",
       "      <td>Nikon D5600 DSLR Camera With 18-55mm Lens - 24...</td>\n",
       "      <td>98499</td>\n",
       "      <td>https://www.jumia.co.ke/electronics/d5600-dslr...</td>\n",
       "    </tr>\n",
       "    <tr>\n",
       "      <th>2</th>\n",
       "      <td>Sony 55X7500H HDR Smart Android LED Ultra HD 4...</td>\n",
       "      <td>79599</td>\n",
       "      <td>https://www.jumia.co.ke/electronics/sony-55x75...</td>\n",
       "    </tr>\n",
       "    <tr>\n",
       "      <th>3</th>\n",
       "      <td>Samsung 55 Inch 55TU8000 4K UHD Smart Flat  Se...</td>\n",
       "      <td>72599</td>\n",
       "      <td>https://www.jumia.co.ke/electronics/55tu8000-4...</td>\n",
       "    </tr>\n",
       "    <tr>\n",
       "      <th>4</th>\n",
       "      <td>Hisense 50'' UHD 4K Frameless Smart TV - Black</td>\n",
       "      <td>70499</td>\n",
       "      <td>https://www.jumia.co.ke/electronics/hisense-50...</td>\n",
       "    </tr>\n",
       "    <tr>\n",
       "      <th>...</th>\n",
       "      <td>...</td>\n",
       "      <td>...</td>\n",
       "      <td>...</td>\n",
       "    </tr>\n",
       "    <tr>\n",
       "      <th>1995</th>\n",
       "      <td>Generic OTG Micro Cable Usb Cable</td>\n",
       "      <td>143</td>\n",
       "      <td>https://www.jumia.co.ke/electronics/generic-ot...</td>\n",
       "    </tr>\n",
       "    <tr>\n",
       "      <th>1996</th>\n",
       "      <td>Generic Audio Cable 3.5mm Jack On RCA Jack RCA...</td>\n",
       "      <td>118</td>\n",
       "      <td>https://www.jumia.co.ke/electronics/generic-au...</td>\n",
       "    </tr>\n",
       "    <tr>\n",
       "      <th>1997</th>\n",
       "      <td>Generic I TAG TRACKER-WITH GPS &amp; BLUE TOOTH CO...</td>\n",
       "      <td>99</td>\n",
       "      <td>https://www.jumia.co.ke/electronics/generic-i-...</td>\n",
       "    </tr>\n",
       "    <tr>\n",
       "      <th>1998</th>\n",
       "      <td>Generic Bass Earphones</td>\n",
       "      <td>19</td>\n",
       "      <td>https://www.jumia.co.ke/electronics/generic-ba...</td>\n",
       "    </tr>\n",
       "    <tr>\n",
       "      <th>1999</th>\n",
       "      <td>Generic Bass Earphones</td>\n",
       "      <td>19</td>\n",
       "      <td>https://www.jumia.co.ke/electronics/generic-ba...</td>\n",
       "    </tr>\n",
       "  </tbody>\n",
       "</table>\n",
       "<p>2000 rows × 3 columns</p>\n",
       "</div>"
      ],
      "text/plain": [
       "                                           Product Name   Price  \\\n",
       "0     Sony KD - 65A9G 65 Inch TV -  MASTER Series - ...  780000   \n",
       "1     Nikon D5600 DSLR Camera With 18-55mm Lens - 24...   98499   \n",
       "2     Sony 55X7500H HDR Smart Android LED Ultra HD 4...   79599   \n",
       "3     Samsung 55 Inch 55TU8000 4K UHD Smart Flat  Se...   72599   \n",
       "4        Hisense 50'' UHD 4K Frameless Smart TV - Black   70499   \n",
       "...                                                 ...     ...   \n",
       "1995                  Generic OTG Micro Cable Usb Cable     143   \n",
       "1996  Generic Audio Cable 3.5mm Jack On RCA Jack RCA...     118   \n",
       "1997  Generic I TAG TRACKER-WITH GPS & BLUE TOOTH CO...      99   \n",
       "1998                             Generic Bass Earphones      19   \n",
       "1999                             Generic Bass Earphones      19   \n",
       "\n",
       "                                                   Link  \n",
       "0     https://www.jumia.co.ke/electronics/sony-kd-65...  \n",
       "1     https://www.jumia.co.ke/electronics/d5600-dslr...  \n",
       "2     https://www.jumia.co.ke/electronics/sony-55x75...  \n",
       "3     https://www.jumia.co.ke/electronics/55tu8000-4...  \n",
       "4     https://www.jumia.co.ke/electronics/hisense-50...  \n",
       "...                                                 ...  \n",
       "1995  https://www.jumia.co.ke/electronics/generic-ot...  \n",
       "1996  https://www.jumia.co.ke/electronics/generic-au...  \n",
       "1997  https://www.jumia.co.ke/electronics/generic-i-...  \n",
       "1998  https://www.jumia.co.ke/electronics/generic-ba...  \n",
       "1999  https://www.jumia.co.ke/electronics/generic-ba...  \n",
       "\n",
       "[2000 rows x 3 columns]"
      ]
     },
     "execution_count": 14,
     "metadata": {},
     "output_type": "execute_result"
    }
   ],
   "source": [
    "df"
   ]
  },
  {
   "cell_type": "code",
   "execution_count": null,
   "metadata": {},
   "outputs": [],
   "source": []
  }
 ],
 "metadata": {
  "interpreter": {
   "hash": "068c34081491f8a5b63086ff6ca105d2af7f06bfe299a0df8e185acf846bdb17"
  },
  "kernelspec": {
   "display_name": "Python 3.8.8 64-bit ('base': conda)",
   "name": "python3"
  },
  "language_info": {
   "codemirror_mode": {
    "name": "ipython",
    "version": 3
   },
   "file_extension": ".py",
   "mimetype": "text/x-python",
   "name": "python",
   "nbconvert_exporter": "python",
   "pygments_lexer": "ipython3",
   "version": "3.8.8"
  },
  "orig_nbformat": 4
 },
 "nbformat": 4,
 "nbformat_minor": 2
}